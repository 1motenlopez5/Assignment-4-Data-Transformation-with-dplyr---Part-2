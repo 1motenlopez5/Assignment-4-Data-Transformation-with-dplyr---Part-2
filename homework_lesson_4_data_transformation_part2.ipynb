{
 "cells": [
  {
   "cell_type": "markdown",
   "id": "3d75e089",
   "metadata": {},
   "source": [
    "# Homework 4: Data Transformation with dplyr - Part 2 (Mutate, Summarize, Group_by, Count)\n",
    "\n",
    "Welcome to Homework 4! This assignment builds on your foundational dplyr skills by introducing advanced data transformation techniques essential for business analytics.\n",
    "\n",
    "Name: Charles Moten-Lopez\n",
    "\n",
    "Due Date: September 21st, 2025\n",
    "\n",
    "## Learning Objectives\n",
    "\n",
    "By completing this homework, you will:\n",
    "- **Master mutate()**: Create new variables and calculated fields for business insights\n",
    "- **Apply summarize()**: Generate aggregate statistics and key performance indicators (KPIs)\n",
    "- **Utilize group_by()**: Perform grouped analysis across business dimensions\n",
    "- **Implement count()**: Conduct frequency analysis and cross-tabulations\n",
    "- **Develop business intelligence**: Combine functions to create comprehensive analytics\n",
    "\n",
    "## Business Context\n",
    "\n",
    "You'll be working with real company sales data to perform the type of analysis that drives business decisions. This includes:\n",
    "- **Financial Analysis**: Calculate profit margins, ROI, and efficiency metrics\n",
    "- **Performance Segmentation**: Categorize transactions and customers by performance\n",
    "- **Regional Analysis**: Compare performance across geographic regions\n",
    "- **Product Analysis**: Evaluate product category performance\n",
    "- **Time-based Analysis**: Identify trends and seasonal patterns\n",
    "- **Sales Rep Performance**: Assess individual representative effectiveness\n",
    "\n",
    "## Dataset Information\n",
    "\n",
    "You'll be working with `company_sales_data.csv` which contains:\n",
    "- **Sales transactions** with revenue, cost, and unit data\n",
    "- **Geographic information** with regional breakdowns\n",
    "- **Product categories** for portfolio analysis\n",
    "- **Sales representative** performance data\n",
    "- **Date information** for trend analysis\n",
    "- **Customer metrics** for segmentation analysis\n",
    "\n",
    "## Instructions\n",
    "\n",
    "Complete each section by writing R code in the designated areas. Focus on creating clean, well-commented code that demonstrates your understanding of both the technical concepts and business applications.\n",
    "\n",
    "**Remember**: In real business analytics, you're not just manipulating data - you're uncovering insights that drive strategic decisions!\n",
    "\n",
    "\n"
   ]
  },
  {
   "cell_type": "markdown",
   "id": "229eb316",
   "metadata": {},
   "source": [
    "## Part 1: Setup and Data Import\n",
    "\n",
    "**Task**: Load the necessary packages and import your dataset.\n",
    "\n",
    "**Business Context**: Every analysis begins with proper data setup. In professional environments, data scientists spend significant time ensuring data is properly loaded and validated before analysis begins.\n",
    "\n",
    "**What you need to do**:\n",
    "1. Load the `tidyverse` package (which includes dplyr)\n",
    "2. Import the `company_sales_data.csv` file \n",
    "3. Examine the structure and basic properties of your data\n",
    "4. Perform initial data validation\n",
    "\n",
    "**Hint**: Use `read_csv()` for better data type detection, and always examine your data structure with `str()`, `summary()`, and `head()` functions."
   ]
  },
  {
   "cell_type": "code",
   "execution_count": 1,
   "id": "4b6c5404",
   "metadata": {
    "vscode": {
     "languageId": "r"
    }
   },
   "outputs": [
    {
     "name": "stderr",
     "output_type": "stream",
     "text": [
      "── \u001b[1mAttaching core tidyverse packages\u001b[22m ──────────────────────── tidyverse 2.0.0 ──\n",
      "\u001b[32m✔\u001b[39m \u001b[34mdplyr    \u001b[39m 1.1.4     \u001b[32m✔\u001b[39m \u001b[34mreadr    \u001b[39m 2.1.5\n",
      "\u001b[32m✔\u001b[39m \u001b[34mforcats  \u001b[39m 1.0.1     \u001b[32m✔\u001b[39m \u001b[34mstringr  \u001b[39m 1.5.2\n",
      "\u001b[32m✔\u001b[39m \u001b[34mggplot2  \u001b[39m 4.0.0     \u001b[32m✔\u001b[39m \u001b[34mtibble   \u001b[39m 3.3.0\n",
      "\u001b[32m✔\u001b[39m \u001b[34mlubridate\u001b[39m 1.9.4     \u001b[32m✔\u001b[39m \u001b[34mtidyr    \u001b[39m 1.3.1\n",
      "\u001b[32m✔\u001b[39m \u001b[34mpurrr    \u001b[39m 1.1.0     \n",
      "── \u001b[1mConflicts\u001b[22m ────────────────────────────────────────── tidyverse_conflicts() ──\n",
      "\u001b[31m✖\u001b[39m \u001b[34mdplyr\u001b[39m::\u001b[32mfilter()\u001b[39m masks \u001b[34mstats\u001b[39m::filter()\n",
      "\u001b[31m✖\u001b[39m \u001b[34mdplyr\u001b[39m::\u001b[32mlag()\u001b[39m    masks \u001b[34mstats\u001b[39m::lag()\n",
      "\u001b[36mℹ\u001b[39m Use the conflicted package (\u001b[3m\u001b[34m<http://conflicted.r-lib.org/>\u001b[39m\u001b[23m) to force all conflicts to become errors\n"
     ]
    },
    {
     "ename": "ERROR",
     "evalue": "Error: 'company_sales_data.csv' does not exist in current working directory ('/workspaces/Assignment-4-Data-Transformation-with-dplyr---Part-2').\n",
     "output_type": "error",
     "traceback": [
      "Error: 'company_sales_data.csv' does not exist in current working directory ('/workspaces/Assignment-4-Data-Transformation-with-dplyr---Part-2').\nTraceback:\n",
      "1. vroom::vroom(file, delim = \",\", col_names = col_names, col_types = col_types, \n .     col_select = {\n .         {\n .             col_select\n .         }\n .     }, id = id, .name_repair = name_repair, skip = skip, n_max = n_max, \n .     na = na, quote = quote, comment = comment, skip_empty_rows = skip_empty_rows, \n .     trim_ws = trim_ws, escape_double = TRUE, escape_backslash = FALSE, \n .     locale = locale, guess_max = guess_max, show_col_types = show_col_types, \n .     progress = progress, altrep = lazy, num_threads = num_threads)",
      "2. vroom_(file, delim = delim %||% col_types$delim, col_names = col_names, \n .     col_types = col_types, id = id, skip = skip, col_select = col_select, \n .     name_repair = .name_repair, na = na, quote = quote, trim_ws = trim_ws, \n .     escape_double = escape_double, escape_backslash = escape_backslash, \n .     comment = comment, skip_empty_rows = skip_empty_rows, locale = locale, \n .     guess_max = guess_max, n_max = n_max, altrep = vroom_altrep(altrep), \n .     num_threads = num_threads, progress = progress)",
      "3. (function (path, write = FALSE) \n . {\n .     if (is.raw(path)) {\n .         return(rawConnection(path, \"rb\"))\n .     }\n .     if (!is.character(path)) {\n .         return(path)\n .     }\n .     if (is_url(path)) {\n .         if (requireNamespace(\"curl\", quietly = TRUE)) {\n .             con <- curl::curl(path)\n .         }\n .         else {\n .             inform(\"`curl` package not installed, falling back to using `url()`\")\n .             con <- url(path)\n .         }\n .         ext <- tolower(tools::file_ext(path))\n .         return(switch(ext, zip = , bz2 = , xz = {\n .             close(con)\n .             stop(\"Reading from remote `\", ext, \"` compressed files is not supported,\\n\", \n .                 \"  download the files locally first.\", call. = FALSE)\n .         }, gz = gzcon(con), con))\n .     }\n .     path <- enc2utf8(path)\n .     p <- split_path_ext(basename_utf8(path))\n .     if (write) {\n .         path <- normalizePath_utf8(path, mustWork = FALSE)\n .     }\n .     else {\n .         path <- check_path(path)\n .     }\n .     if (is_installed(\"archive\")) {\n .         formats <- archive_formats(p$extension)\n .         extension <- p$extension\n .         while (is.null(formats) && nzchar(extension)) {\n .             extension <- split_path_ext(extension)$extension\n .             formats <- archive_formats(extension)\n .         }\n .         if (!is.null(formats)) {\n .             p$extension <- extension\n .             if (write) {\n .                 if (is.null(formats[[1]])) {\n .                   return(archive::file_write(path, filter = formats[[2]]))\n .                 }\n .                 return(archive::archive_write(path, p$path, format = formats[[1]], \n .                   filter = formats[[2]]))\n .             }\n .             if (is.null(formats[[1]])) {\n .                 return(archive::file_read(path, filter = formats[[2]]))\n .             }\n .             return(archive::archive_read(path, format = formats[[1]], \n .                 filter = formats[[2]]))\n .         }\n .     }\n .     if (!write) {\n .         compression <- detect_compression(path)\n .     }\n .     else {\n .         compression <- NA\n .     }\n .     if (is.na(compression)) {\n .         compression <- tools::file_ext(path)\n .     }\n .     if (write && compression == \"zip\") {\n .         stop(\"Can only read from, not write to, .zip\", call. = FALSE)\n .     }\n .     switch(compression, gz = gzfile(path, \"\"), bz2 = bzfile(path, \n .         \"\"), xz = xzfile(path, \"\"), zip = zipfile(path, \"\"), \n .         if (!has_trailing_newline(path)) {\n .             file(path)\n .         } else {\n .             path\n .         })\n . })(\"company_sales_data.csv\")",
      "4. check_path(path)",
      "5. stop(\"'\", path, \"' does not exist\", if (!is_absolute_path(path)) {\n .     paste0(\" in current working directory ('\", getwd(), \"')\")\n . }, \".\", call. = FALSE)",
      "6. .handleSimpleError(function (cnd) \n . {\n .     watcher$capture_plot_and_output()\n .     cnd <- sanitize_call(cnd)\n .     watcher$push(cnd)\n .     switch(on_error, continue = invokeRestart(\"eval_continue\"), \n .         stop = invokeRestart(\"eval_stop\"), error = NULL)\n . }, \"'company_sales_data.csv' does not exist in current working directory ('/workspaces/Assignment-4-Data-Transformation-with-dplyr---Part-2').\", \n .     base::quote(NULL))"
     ]
    }
   ],
   "source": [
    "# Load required packages\n",
    "# TODO: Load tidyverse\n",
    "library(tidyverse)\n",
    "\n",
    "# Import the company sales data\n",
    "# TODO: Read the company_sales_data.csv file into a variable called company_data\n",
    "company_data <- read_csv(\"company_sales_data.csv\")\n",
    "\n",
    "# Examine the dataset structure\n",
    "# TODO: Use str() to examine the data structure\n",
    "str(company_data)\n",
    "\n",
    "# Display the first few rows\n",
    "# TODO: Use head() to show the first 6 rows\n",
    "head(company_data)\n",
    "\n",
    "# Generate summary statistics\n",
    "# TODO: Use summary() to get basic statistics for all columns\n",
    "summary(company_data)\n",
    "\n",
    "# Check dataset dimensions\n",
    "# TODO: Display the number of rows and columns using nrow() and ncol()\n",
    "nrow(company_data)\n",
    "ncol(company_data)"
   ]
  },
  {
   "cell_type": "markdown",
   "id": "c9d722a5",
   "metadata": {},
   "source": [
    "## Part 2: Creating New Variables with mutate()\n",
    "\n",
    "**Task**: Use `mutate()` to create new calculated fields for business analysis.\n",
    "\n",
    "**Business Context**: Raw data rarely tells the complete story. Business analysts must create derived metrics like profit margins, efficiency ratios, and performance categories to generate actionable insights.\n",
    "\n",
    "**Variables to create**:\n",
    "1. **Profit**: Revenue minus Cost\n",
    "2. **Profit_Margin**: (Profit / Revenue) × 100\n",
    "3. **Cost_Ratio**: (Cost / Revenue) × 100  \n",
    "4. **Revenue_Per_Unit**: Revenue divided by Units_Sold\n",
    "5. **Cost_Per_Unit**: Cost divided by Units_Sold\n",
    "6. **ROI**: (Profit / Cost) × 100\n",
    "\n",
    "**Hint**: Use the pipe operator (`%>%`) to chain multiple mutate operations together. Remember to create meaningful variable names that clearly indicate what each metric represents."
   ]
  },
  {
   "cell_type": "code",
   "execution_count": null,
   "id": "e785c110",
   "metadata": {
    "vscode": {
     "languageId": "r"
    }
   },
   "outputs": [
    {
     "data": {
      "text/html": [
       "<table class=\"dataframe\">\n",
       "<caption>A tibble: 300 × 5</caption>\n",
       "<thead>\n",
       "\t<tr><th scope=col>Revenue</th><th scope=col>Cost</th><th scope=col>Profit</th><th scope=col>Profit_Margin</th><th scope=col>ROI</th></tr>\n",
       "\t<tr><th scope=col>&lt;dbl&gt;</th><th scope=col>&lt;dbl&gt;</th><th scope=col>&lt;dbl&gt;</th><th scope=col>&lt;dbl&gt;</th><th scope=col>&lt;dbl&gt;</th></tr>\n",
       "</thead>\n",
       "<tbody>\n",
       "\t<tr><td>20750.92</td><td>12253.36</td><td> 8497.56</td><td>40.95028</td><td> 69.34882</td></tr>\n",
       "\t<tr><td>32359.98</td><td>24595.20</td><td> 7764.78</td><td>23.99501</td><td> 31.57031</td></tr>\n",
       "\t<tr><td>39268.40</td><td>23291.09</td><td>15977.31</td><td>40.68745</td><td> 68.59838</td></tr>\n",
       "\t<tr><td>28865.09</td><td>12428.74</td><td>16436.35</td><td>56.94197</td><td>132.24470</td></tr>\n",
       "\t<tr><td> 3932.36</td><td> 1778.18</td><td> 2154.18</td><td>54.78084</td><td>121.14522</td></tr>\n",
       "\t<tr><td>48209.75</td><td>26052.04</td><td>22157.71</td><td>45.96106</td><td> 85.05173</td></tr>\n",
       "\t<tr><td>33055.35</td><td>20432.24</td><td>12623.11</td><td>38.18780</td><td> 61.78035</td></tr>\n",
       "\t<tr><td>49856.54</td><td>37118.63</td><td>12737.91</td><td>25.54913</td><td> 34.31676</td></tr>\n",
       "\t<tr><td>13477.13</td><td> 8685.85</td><td> 4791.28</td><td>35.55119</td><td> 55.16190</td></tr>\n",
       "\t<tr><td>21188.96</td><td>16757.06</td><td> 4431.90</td><td>20.91608</td><td> 26.44796</td></tr>\n",
       "\t<tr><td>24474.26</td><td> 7469.31</td><td>17004.95</td><td>69.48096</td><td>227.66427</td></tr>\n",
       "\t<tr><td>48997.22</td><td>26134.68</td><td>22862.54</td><td>46.66089</td><td> 87.47970</td></tr>\n",
       "\t<tr><td> 8079.98</td><td> 3889.00</td><td> 4190.98</td><td>51.86869</td><td>107.76498</td></tr>\n",
       "\t<tr><td>15606.39</td><td> 6063.92</td><td> 9542.47</td><td>61.14463</td><td>157.36471</td></tr>\n",
       "\t<tr><td>30287.40</td><td>12633.44</td><td>17653.96</td><td>58.28813</td><td>139.73993</td></tr>\n",
       "\t<tr><td>37277.72</td><td>15418.04</td><td>21859.68</td><td>58.64007</td><td>141.77989</td></tr>\n",
       "\t<tr><td>38674.17</td><td>27501.44</td><td>11172.73</td><td>28.88939</td><td> 40.62598</td></tr>\n",
       "\t<tr><td>44751.74</td><td>26480.82</td><td>18270.92</td><td>40.82728</td><td> 68.99681</td></tr>\n",
       "\t<tr><td>38301.63</td><td>19173.66</td><td>19127.97</td><td>49.94036</td><td> 99.76170</td></tr>\n",
       "\t<tr><td> 2365.46</td><td> 1323.14</td><td> 1042.32</td><td>44.06416</td><td> 78.77624</td></tr>\n",
       "\t<tr><td> 8713.33</td><td> 6309.40</td><td> 2403.93</td><td>27.58911</td><td> 38.10077</td></tr>\n",
       "\t<tr><td>35684.60</td><td>20041.90</td><td>15642.70</td><td>43.83600</td><td> 78.04999</td></tr>\n",
       "\t<tr><td>48747.95</td><td>17027.61</td><td>31720.34</td><td>65.07010</td><td>186.28768</td></tr>\n",
       "\t<tr><td> 5931.50</td><td> 3693.96</td><td> 2237.54</td><td>37.72300</td><td> 60.57294</td></tr>\n",
       "\t<tr><td> 5568.06</td><td> 3489.03</td><td> 2079.03</td><td>37.33850</td><td> 59.58762</td></tr>\n",
       "\t<tr><td>47637.19</td><td>29136.66</td><td>18500.53</td><td>38.83632</td><td> 63.49571</td></tr>\n",
       "\t<tr><td>41576.83</td><td>31637.33</td><td> 9939.50</td><td>23.90634</td><td> 31.41700</td></tr>\n",
       "\t<tr><td> 5195.86</td><td> 2110.14</td><td> 3085.72</td><td>59.38805</td><td>146.23295</td></tr>\n",
       "\t<tr><td>32028.51</td><td>25582.75</td><td> 6445.76</td><td>20.12507</td><td> 25.19573</td></tr>\n",
       "\t<tr><td> 9565.87</td><td> 3196.97</td><td> 6368.90</td><td>66.57941</td><td>199.21676</td></tr>\n",
       "\t<tr><td>⋮</td><td>⋮</td><td>⋮</td><td>⋮</td><td>⋮</td></tr>\n",
       "\t<tr><td> 3866.48</td><td> 1261.04</td><td> 2605.44</td><td>67.38532</td><td>206.61042</td></tr>\n",
       "\t<tr><td> 6905.83</td><td> 4946.42</td><td> 1959.41</td><td>28.37327</td><td> 39.61269</td></tr>\n",
       "\t<tr><td> 4499.16</td><td> 2272.93</td><td> 2226.23</td><td>49.48101</td><td> 97.94538</td></tr>\n",
       "\t<tr><td>38796.98</td><td>23401.67</td><td>15395.31</td><td>39.68172</td><td> 65.78723</td></tr>\n",
       "\t<tr><td>25330.20</td><td>10895.38</td><td>14434.82</td><td>56.98660</td><td>132.48570</td></tr>\n",
       "\t<tr><td> 1914.47</td><td> 1151.36</td><td>  763.11</td><td>39.86012</td><td> 66.27901</td></tr>\n",
       "\t<tr><td>40402.43</td><td>15868.36</td><td>24534.07</td><td>60.72424</td><td>154.60999</td></tr>\n",
       "\t<tr><td>24180.51</td><td>17008.63</td><td> 7171.88</td><td>29.65975</td><td> 42.16612</td></tr>\n",
       "\t<tr><td>32310.35</td><td>19328.67</td><td>12981.68</td><td>40.17809</td><td> 67.16282</td></tr>\n",
       "\t<tr><td>11805.27</td><td> 7370.27</td><td> 4435.00</td><td>37.56797</td><td> 60.17419</td></tr>\n",
       "\t<tr><td>22151.01</td><td> 9576.69</td><td>12574.32</td><td>56.76635</td><td>131.30132</td></tr>\n",
       "\t<tr><td>18267.85</td><td> 7013.20</td><td>11254.65</td><td>61.60906</td><td>160.47810</td></tr>\n",
       "\t<tr><td>15037.78</td><td> 4788.78</td><td>10249.00</td><td>68.15501</td><td>214.02111</td></tr>\n",
       "\t<tr><td>49866.51</td><td>19117.23</td><td>30749.28</td><td>61.66319</td><td>160.84590</td></tr>\n",
       "\t<tr><td>20052.34</td><td> 9685.11</td><td>10367.23</td><td>51.70085</td><td>107.04298</td></tr>\n",
       "\t<tr><td>17754.91</td><td>13390.34</td><td> 4364.57</td><td>24.58233</td><td> 32.59492</td></tr>\n",
       "\t<tr><td>31099.55</td><td>21502.81</td><td> 9596.74</td><td>30.85813</td><td> 44.63017</td></tr>\n",
       "\t<tr><td>15760.95</td><td> 6493.53</td><td> 9267.42</td><td>58.79988</td><td>142.71775</td></tr>\n",
       "\t<tr><td> 3393.75</td><td> 1052.97</td><td> 2340.78</td><td>68.97326</td><td>222.30263</td></tr>\n",
       "\t<tr><td>11034.63</td><td> 4603.89</td><td> 6430.74</td><td>58.27780</td><td>139.68057</td></tr>\n",
       "\t<tr><td>27275.19</td><td>20480.76</td><td> 6794.43</td><td>24.91066</td><td> 33.17470</td></tr>\n",
       "\t<tr><td>23689.77</td><td>10952.35</td><td>12737.42</td><td>53.76760</td><td>116.29851</td></tr>\n",
       "\t<tr><td>26535.57</td><td>15430.29</td><td>11105.28</td><td>41.85054</td><td> 71.97065</td></tr>\n",
       "\t<tr><td>34806.29</td><td>18741.34</td><td>16064.95</td><td>46.15531</td><td> 85.71932</td></tr>\n",
       "\t<tr><td> 2867.68</td><td> 1632.15</td><td> 1235.53</td><td>43.08465</td><td> 75.69954</td></tr>\n",
       "\t<tr><td>38026.53</td><td>28410.28</td><td> 9616.25</td><td>25.28827</td><td> 33.84778</td></tr>\n",
       "\t<tr><td>10029.25</td><td> 4614.59</td><td> 5414.66</td><td>53.98868</td><td>117.33783</td></tr>\n",
       "\t<tr><td>37911.51</td><td>21905.14</td><td>16006.37</td><td>42.22034</td><td> 73.07130</td></tr>\n",
       "\t<tr><td> 2137.30</td><td> 1156.84</td><td>  980.46</td><td>45.87377</td><td> 84.75329</td></tr>\n",
       "\t<tr><td>34730.09</td><td>21474.69</td><td>13255.40</td><td>38.16690</td><td> 61.72569</td></tr>\n",
       "</tbody>\n",
       "</table>\n"
      ],
      "text/latex": [
       "A tibble: 300 × 5\n",
       "\\begin{tabular}{lllll}\n",
       " Revenue & Cost & Profit & Profit\\_Margin & ROI\\\\\n",
       " <dbl> & <dbl> & <dbl> & <dbl> & <dbl>\\\\\n",
       "\\hline\n",
       "\t 20750.92 & 12253.36 &  8497.56 & 40.95028 &  69.34882\\\\\n",
       "\t 32359.98 & 24595.20 &  7764.78 & 23.99501 &  31.57031\\\\\n",
       "\t 39268.40 & 23291.09 & 15977.31 & 40.68745 &  68.59838\\\\\n",
       "\t 28865.09 & 12428.74 & 16436.35 & 56.94197 & 132.24470\\\\\n",
       "\t  3932.36 &  1778.18 &  2154.18 & 54.78084 & 121.14522\\\\\n",
       "\t 48209.75 & 26052.04 & 22157.71 & 45.96106 &  85.05173\\\\\n",
       "\t 33055.35 & 20432.24 & 12623.11 & 38.18780 &  61.78035\\\\\n",
       "\t 49856.54 & 37118.63 & 12737.91 & 25.54913 &  34.31676\\\\\n",
       "\t 13477.13 &  8685.85 &  4791.28 & 35.55119 &  55.16190\\\\\n",
       "\t 21188.96 & 16757.06 &  4431.90 & 20.91608 &  26.44796\\\\\n",
       "\t 24474.26 &  7469.31 & 17004.95 & 69.48096 & 227.66427\\\\\n",
       "\t 48997.22 & 26134.68 & 22862.54 & 46.66089 &  87.47970\\\\\n",
       "\t  8079.98 &  3889.00 &  4190.98 & 51.86869 & 107.76498\\\\\n",
       "\t 15606.39 &  6063.92 &  9542.47 & 61.14463 & 157.36471\\\\\n",
       "\t 30287.40 & 12633.44 & 17653.96 & 58.28813 & 139.73993\\\\\n",
       "\t 37277.72 & 15418.04 & 21859.68 & 58.64007 & 141.77989\\\\\n",
       "\t 38674.17 & 27501.44 & 11172.73 & 28.88939 &  40.62598\\\\\n",
       "\t 44751.74 & 26480.82 & 18270.92 & 40.82728 &  68.99681\\\\\n",
       "\t 38301.63 & 19173.66 & 19127.97 & 49.94036 &  99.76170\\\\\n",
       "\t  2365.46 &  1323.14 &  1042.32 & 44.06416 &  78.77624\\\\\n",
       "\t  8713.33 &  6309.40 &  2403.93 & 27.58911 &  38.10077\\\\\n",
       "\t 35684.60 & 20041.90 & 15642.70 & 43.83600 &  78.04999\\\\\n",
       "\t 48747.95 & 17027.61 & 31720.34 & 65.07010 & 186.28768\\\\\n",
       "\t  5931.50 &  3693.96 &  2237.54 & 37.72300 &  60.57294\\\\\n",
       "\t  5568.06 &  3489.03 &  2079.03 & 37.33850 &  59.58762\\\\\n",
       "\t 47637.19 & 29136.66 & 18500.53 & 38.83632 &  63.49571\\\\\n",
       "\t 41576.83 & 31637.33 &  9939.50 & 23.90634 &  31.41700\\\\\n",
       "\t  5195.86 &  2110.14 &  3085.72 & 59.38805 & 146.23295\\\\\n",
       "\t 32028.51 & 25582.75 &  6445.76 & 20.12507 &  25.19573\\\\\n",
       "\t  9565.87 &  3196.97 &  6368.90 & 66.57941 & 199.21676\\\\\n",
       "\t ⋮ & ⋮ & ⋮ & ⋮ & ⋮\\\\\n",
       "\t  3866.48 &  1261.04 &  2605.44 & 67.38532 & 206.61042\\\\\n",
       "\t  6905.83 &  4946.42 &  1959.41 & 28.37327 &  39.61269\\\\\n",
       "\t  4499.16 &  2272.93 &  2226.23 & 49.48101 &  97.94538\\\\\n",
       "\t 38796.98 & 23401.67 & 15395.31 & 39.68172 &  65.78723\\\\\n",
       "\t 25330.20 & 10895.38 & 14434.82 & 56.98660 & 132.48570\\\\\n",
       "\t  1914.47 &  1151.36 &   763.11 & 39.86012 &  66.27901\\\\\n",
       "\t 40402.43 & 15868.36 & 24534.07 & 60.72424 & 154.60999\\\\\n",
       "\t 24180.51 & 17008.63 &  7171.88 & 29.65975 &  42.16612\\\\\n",
       "\t 32310.35 & 19328.67 & 12981.68 & 40.17809 &  67.16282\\\\\n",
       "\t 11805.27 &  7370.27 &  4435.00 & 37.56797 &  60.17419\\\\\n",
       "\t 22151.01 &  9576.69 & 12574.32 & 56.76635 & 131.30132\\\\\n",
       "\t 18267.85 &  7013.20 & 11254.65 & 61.60906 & 160.47810\\\\\n",
       "\t 15037.78 &  4788.78 & 10249.00 & 68.15501 & 214.02111\\\\\n",
       "\t 49866.51 & 19117.23 & 30749.28 & 61.66319 & 160.84590\\\\\n",
       "\t 20052.34 &  9685.11 & 10367.23 & 51.70085 & 107.04298\\\\\n",
       "\t 17754.91 & 13390.34 &  4364.57 & 24.58233 &  32.59492\\\\\n",
       "\t 31099.55 & 21502.81 &  9596.74 & 30.85813 &  44.63017\\\\\n",
       "\t 15760.95 &  6493.53 &  9267.42 & 58.79988 & 142.71775\\\\\n",
       "\t  3393.75 &  1052.97 &  2340.78 & 68.97326 & 222.30263\\\\\n",
       "\t 11034.63 &  4603.89 &  6430.74 & 58.27780 & 139.68057\\\\\n",
       "\t 27275.19 & 20480.76 &  6794.43 & 24.91066 &  33.17470\\\\\n",
       "\t 23689.77 & 10952.35 & 12737.42 & 53.76760 & 116.29851\\\\\n",
       "\t 26535.57 & 15430.29 & 11105.28 & 41.85054 &  71.97065\\\\\n",
       "\t 34806.29 & 18741.34 & 16064.95 & 46.15531 &  85.71932\\\\\n",
       "\t  2867.68 &  1632.15 &  1235.53 & 43.08465 &  75.69954\\\\\n",
       "\t 38026.53 & 28410.28 &  9616.25 & 25.28827 &  33.84778\\\\\n",
       "\t 10029.25 &  4614.59 &  5414.66 & 53.98868 & 117.33783\\\\\n",
       "\t 37911.51 & 21905.14 & 16006.37 & 42.22034 &  73.07130\\\\\n",
       "\t  2137.30 &  1156.84 &   980.46 & 45.87377 &  84.75329\\\\\n",
       "\t 34730.09 & 21474.69 & 13255.40 & 38.16690 &  61.72569\\\\\n",
       "\\end{tabular}\n"
      ],
      "text/markdown": [
       "\n",
       "A tibble: 300 × 5\n",
       "\n",
       "| Revenue &lt;dbl&gt; | Cost &lt;dbl&gt; | Profit &lt;dbl&gt; | Profit_Margin &lt;dbl&gt; | ROI &lt;dbl&gt; |\n",
       "|---|---|---|---|---|\n",
       "| 20750.92 | 12253.36 |  8497.56 | 40.95028 |  69.34882 |\n",
       "| 32359.98 | 24595.20 |  7764.78 | 23.99501 |  31.57031 |\n",
       "| 39268.40 | 23291.09 | 15977.31 | 40.68745 |  68.59838 |\n",
       "| 28865.09 | 12428.74 | 16436.35 | 56.94197 | 132.24470 |\n",
       "|  3932.36 |  1778.18 |  2154.18 | 54.78084 | 121.14522 |\n",
       "| 48209.75 | 26052.04 | 22157.71 | 45.96106 |  85.05173 |\n",
       "| 33055.35 | 20432.24 | 12623.11 | 38.18780 |  61.78035 |\n",
       "| 49856.54 | 37118.63 | 12737.91 | 25.54913 |  34.31676 |\n",
       "| 13477.13 |  8685.85 |  4791.28 | 35.55119 |  55.16190 |\n",
       "| 21188.96 | 16757.06 |  4431.90 | 20.91608 |  26.44796 |\n",
       "| 24474.26 |  7469.31 | 17004.95 | 69.48096 | 227.66427 |\n",
       "| 48997.22 | 26134.68 | 22862.54 | 46.66089 |  87.47970 |\n",
       "|  8079.98 |  3889.00 |  4190.98 | 51.86869 | 107.76498 |\n",
       "| 15606.39 |  6063.92 |  9542.47 | 61.14463 | 157.36471 |\n",
       "| 30287.40 | 12633.44 | 17653.96 | 58.28813 | 139.73993 |\n",
       "| 37277.72 | 15418.04 | 21859.68 | 58.64007 | 141.77989 |\n",
       "| 38674.17 | 27501.44 | 11172.73 | 28.88939 |  40.62598 |\n",
       "| 44751.74 | 26480.82 | 18270.92 | 40.82728 |  68.99681 |\n",
       "| 38301.63 | 19173.66 | 19127.97 | 49.94036 |  99.76170 |\n",
       "|  2365.46 |  1323.14 |  1042.32 | 44.06416 |  78.77624 |\n",
       "|  8713.33 |  6309.40 |  2403.93 | 27.58911 |  38.10077 |\n",
       "| 35684.60 | 20041.90 | 15642.70 | 43.83600 |  78.04999 |\n",
       "| 48747.95 | 17027.61 | 31720.34 | 65.07010 | 186.28768 |\n",
       "|  5931.50 |  3693.96 |  2237.54 | 37.72300 |  60.57294 |\n",
       "|  5568.06 |  3489.03 |  2079.03 | 37.33850 |  59.58762 |\n",
       "| 47637.19 | 29136.66 | 18500.53 | 38.83632 |  63.49571 |\n",
       "| 41576.83 | 31637.33 |  9939.50 | 23.90634 |  31.41700 |\n",
       "|  5195.86 |  2110.14 |  3085.72 | 59.38805 | 146.23295 |\n",
       "| 32028.51 | 25582.75 |  6445.76 | 20.12507 |  25.19573 |\n",
       "|  9565.87 |  3196.97 |  6368.90 | 66.57941 | 199.21676 |\n",
       "| ⋮ | ⋮ | ⋮ | ⋮ | ⋮ |\n",
       "|  3866.48 |  1261.04 |  2605.44 | 67.38532 | 206.61042 |\n",
       "|  6905.83 |  4946.42 |  1959.41 | 28.37327 |  39.61269 |\n",
       "|  4499.16 |  2272.93 |  2226.23 | 49.48101 |  97.94538 |\n",
       "| 38796.98 | 23401.67 | 15395.31 | 39.68172 |  65.78723 |\n",
       "| 25330.20 | 10895.38 | 14434.82 | 56.98660 | 132.48570 |\n",
       "|  1914.47 |  1151.36 |   763.11 | 39.86012 |  66.27901 |\n",
       "| 40402.43 | 15868.36 | 24534.07 | 60.72424 | 154.60999 |\n",
       "| 24180.51 | 17008.63 |  7171.88 | 29.65975 |  42.16612 |\n",
       "| 32310.35 | 19328.67 | 12981.68 | 40.17809 |  67.16282 |\n",
       "| 11805.27 |  7370.27 |  4435.00 | 37.56797 |  60.17419 |\n",
       "| 22151.01 |  9576.69 | 12574.32 | 56.76635 | 131.30132 |\n",
       "| 18267.85 |  7013.20 | 11254.65 | 61.60906 | 160.47810 |\n",
       "| 15037.78 |  4788.78 | 10249.00 | 68.15501 | 214.02111 |\n",
       "| 49866.51 | 19117.23 | 30749.28 | 61.66319 | 160.84590 |\n",
       "| 20052.34 |  9685.11 | 10367.23 | 51.70085 | 107.04298 |\n",
       "| 17754.91 | 13390.34 |  4364.57 | 24.58233 |  32.59492 |\n",
       "| 31099.55 | 21502.81 |  9596.74 | 30.85813 |  44.63017 |\n",
       "| 15760.95 |  6493.53 |  9267.42 | 58.79988 | 142.71775 |\n",
       "|  3393.75 |  1052.97 |  2340.78 | 68.97326 | 222.30263 |\n",
       "| 11034.63 |  4603.89 |  6430.74 | 58.27780 | 139.68057 |\n",
       "| 27275.19 | 20480.76 |  6794.43 | 24.91066 |  33.17470 |\n",
       "| 23689.77 | 10952.35 | 12737.42 | 53.76760 | 116.29851 |\n",
       "| 26535.57 | 15430.29 | 11105.28 | 41.85054 |  71.97065 |\n",
       "| 34806.29 | 18741.34 | 16064.95 | 46.15531 |  85.71932 |\n",
       "|  2867.68 |  1632.15 |  1235.53 | 43.08465 |  75.69954 |\n",
       "| 38026.53 | 28410.28 |  9616.25 | 25.28827 |  33.84778 |\n",
       "| 10029.25 |  4614.59 |  5414.66 | 53.98868 | 117.33783 |\n",
       "| 37911.51 | 21905.14 | 16006.37 | 42.22034 |  73.07130 |\n",
       "|  2137.30 |  1156.84 |   980.46 | 45.87377 |  84.75329 |\n",
       "| 34730.09 | 21474.69 | 13255.40 | 38.16690 |  61.72569 |\n",
       "\n"
      ],
      "text/plain": [
       "    Revenue  Cost     Profit   Profit_Margin ROI      \n",
       "1   20750.92 12253.36  8497.56 40.95028       69.34882\n",
       "2   32359.98 24595.20  7764.78 23.99501       31.57031\n",
       "3   39268.40 23291.09 15977.31 40.68745       68.59838\n",
       "4   28865.09 12428.74 16436.35 56.94197      132.24470\n",
       "5    3932.36  1778.18  2154.18 54.78084      121.14522\n",
       "6   48209.75 26052.04 22157.71 45.96106       85.05173\n",
       "7   33055.35 20432.24 12623.11 38.18780       61.78035\n",
       "8   49856.54 37118.63 12737.91 25.54913       34.31676\n",
       "9   13477.13  8685.85  4791.28 35.55119       55.16190\n",
       "10  21188.96 16757.06  4431.90 20.91608       26.44796\n",
       "11  24474.26  7469.31 17004.95 69.48096      227.66427\n",
       "12  48997.22 26134.68 22862.54 46.66089       87.47970\n",
       "13   8079.98  3889.00  4190.98 51.86869      107.76498\n",
       "14  15606.39  6063.92  9542.47 61.14463      157.36471\n",
       "15  30287.40 12633.44 17653.96 58.28813      139.73993\n",
       "16  37277.72 15418.04 21859.68 58.64007      141.77989\n",
       "17  38674.17 27501.44 11172.73 28.88939       40.62598\n",
       "18  44751.74 26480.82 18270.92 40.82728       68.99681\n",
       "19  38301.63 19173.66 19127.97 49.94036       99.76170\n",
       "20   2365.46  1323.14  1042.32 44.06416       78.77624\n",
       "21   8713.33  6309.40  2403.93 27.58911       38.10077\n",
       "22  35684.60 20041.90 15642.70 43.83600       78.04999\n",
       "23  48747.95 17027.61 31720.34 65.07010      186.28768\n",
       "24   5931.50  3693.96  2237.54 37.72300       60.57294\n",
       "25   5568.06  3489.03  2079.03 37.33850       59.58762\n",
       "26  47637.19 29136.66 18500.53 38.83632       63.49571\n",
       "27  41576.83 31637.33  9939.50 23.90634       31.41700\n",
       "28   5195.86  2110.14  3085.72 59.38805      146.23295\n",
       "29  32028.51 25582.75  6445.76 20.12507       25.19573\n",
       "30   9565.87  3196.97  6368.90 66.57941      199.21676\n",
       "⋮   ⋮        ⋮        ⋮        ⋮             ⋮        \n",
       "271  3866.48  1261.04  2605.44 67.38532      206.61042\n",
       "272  6905.83  4946.42  1959.41 28.37327       39.61269\n",
       "273  4499.16  2272.93  2226.23 49.48101       97.94538\n",
       "274 38796.98 23401.67 15395.31 39.68172       65.78723\n",
       "275 25330.20 10895.38 14434.82 56.98660      132.48570\n",
       "276  1914.47  1151.36   763.11 39.86012       66.27901\n",
       "277 40402.43 15868.36 24534.07 60.72424      154.60999\n",
       "278 24180.51 17008.63  7171.88 29.65975       42.16612\n",
       "279 32310.35 19328.67 12981.68 40.17809       67.16282\n",
       "280 11805.27  7370.27  4435.00 37.56797       60.17419\n",
       "281 22151.01  9576.69 12574.32 56.76635      131.30132\n",
       "282 18267.85  7013.20 11254.65 61.60906      160.47810\n",
       "283 15037.78  4788.78 10249.00 68.15501      214.02111\n",
       "284 49866.51 19117.23 30749.28 61.66319      160.84590\n",
       "285 20052.34  9685.11 10367.23 51.70085      107.04298\n",
       "286 17754.91 13390.34  4364.57 24.58233       32.59492\n",
       "287 31099.55 21502.81  9596.74 30.85813       44.63017\n",
       "288 15760.95  6493.53  9267.42 58.79988      142.71775\n",
       "289  3393.75  1052.97  2340.78 68.97326      222.30263\n",
       "290 11034.63  4603.89  6430.74 58.27780      139.68057\n",
       "291 27275.19 20480.76  6794.43 24.91066       33.17470\n",
       "292 23689.77 10952.35 12737.42 53.76760      116.29851\n",
       "293 26535.57 15430.29 11105.28 41.85054       71.97065\n",
       "294 34806.29 18741.34 16064.95 46.15531       85.71932\n",
       "295  2867.68  1632.15  1235.53 43.08465       75.69954\n",
       "296 38026.53 28410.28  9616.25 25.28827       33.84778\n",
       "297 10029.25  4614.59  5414.66 53.98868      117.33783\n",
       "298 37911.51 21905.14 16006.37 42.22034       73.07130\n",
       "299  2137.30  1156.84   980.46 45.87377       84.75329\n",
       "300 34730.09 21474.69 13255.40 38.16690       61.72569"
      ]
     },
     "metadata": {},
     "output_type": "display_data"
    }
   ],
   "source": [
    "# Create basic financial metrics using mutate()\n",
    "company_data <- company_data %>%\n",
    "  mutate(\n",
    "    # TODO: Create Profit (Revenue - Cost)\n",
    "    Profit = (Revenue - Cost),\n",
    "    # TODO: Create Profit_Margin ((Profit / Revenue) * 100)\n",
    "    Profit_Margin = ((Profit / Revenue) * 100),\n",
    "    # TODO: Create Cost_Ratio ((Cost / Revenue) * 100)\n",
    "    Cost_Ratio = ((Cost / Revenue) * 100),\n",
    "    # TODO: Create Revenue_Per_Unit (Revenue / Units_Sold)\n",
    "    Revenue_Per_Unit = (Revenue / Units_Sold),\n",
    "    # TODO: Create Cost_Per_Unit (Cost / Units_Sold)\n",
    "    Cost_Per_Unit = (Cost / Units_Sold),\n",
    "    # TODO: Create ROI ((Profit / Cost) * 100)\n",
    "    ROI = (Profit / Cost) * 100\n",
    "  )\n",
    "\n",
    "# Display the new financial metrics\n",
    "# TODO: Select and display columns: Revenue, Cost, Profit, Profit_Margin, ROI\n",
    "company_data %>%\n",
    "select(Revenue, Cost, Profit, Profit_Margin, ROI)"
   ]
  },
  {
   "cell_type": "markdown",
   "id": "e1b470f6",
   "metadata": {},
   "source": [
    "## Part 3: Creating Categorical Variables\n",
    "\n",
    "**Task**: Create categorical variables for business segmentation using conditional logic.\n",
    "\n",
    "**Business Context**: Segmentation is crucial for targeted business strategies. By categorizing transactions and customers, businesses can tailor their approaches to different performance levels and customer types.\n",
    "\n",
    "**Categories to create**:\n",
    "1. **Performance_Category**: Based on Profit_Margin (High: >50%, Medium: 30-50%, Low: <30%)\n",
    "2. **Revenue_Size**: Based on Revenue (Large: >30000, Medium: 15000-30000, Small: <15000)\n",
    "3. **Deal_Size**: Based on Units_Sold (Bulk: >50, Standard: 20-50, Small: <20)\n",
    "4. **High_Value_Customer**: Flag for Revenue > 25000\n",
    "5. **Profitable_Deal**: Flag for Profit_Margin > 40%\n",
    "\n",
    "**Hint**: Use `case_when()` for multiple conditions or `ifelse()` for simple binary classifications."
   ]
  },
  {
   "cell_type": "code",
   "execution_count": null,
   "id": "73cefd70",
   "metadata": {
    "vscode": {
     "languageId": "r"
    }
   },
   "outputs": [
    {
     "data": {
      "text/plain": [
       "\n",
       "  High    Low Medium \n",
       "   113     66    121 "
      ]
     },
     "metadata": {},
     "output_type": "display_data"
    },
    {
     "data": {
      "text/plain": [
       "\n",
       " Large    Low Medium \n",
       "   122     74    104 "
      ]
     },
     "metadata": {},
     "output_type": "display_data"
    },
    {
     "data": {
      "text/plain": [
       "\n",
       " No Yes \n",
       "146 154 "
      ]
     },
     "metadata": {},
     "output_type": "display_data"
    }
   ],
   "source": [
    "# Create categorical variables for business segmentation\n",
    "company_data <- company_data %>%\n",
    "  mutate(\n",
    "    # TODO: Create Performance_Category using case_when()\n",
    "    # High: Profit_Margin > 50, Medium: Profit_Margin > 30, Low: everything else\n",
    "    Performance_Category = case_when(\n",
    "      Profit_Margin > 50 ~ \"High\",\n",
    "      Profit_Margin > 30 ~ \"Medium\",\n",
    "      TRUE ~ \"Low\"\n",
    "    ),\n",
    "    # TODO: Create Revenue_Size category\n",
    "    # Large: Revenue > 30000, Medium: Revenue > 15000, Small: everything else\n",
    "    Revenue_Size = case_when(\n",
    "      Revenue > 30000 ~ \"Large\",\n",
    "      Revenue > 15000 ~ \"Medium\",\n",
    "      TRUE ~ \"Low\"\n",
    "    ),\n",
    "    # TODO: Create Deal_Size category  \n",
    "    # Bulk: Units_Sold > 50, Standard: Units_Sold > 20, Small: everything else\n",
    "    Deal_Size = case_when(\n",
    "      Units_Sold > 50 ~ \"Bulk\",\n",
    "      Units_Sold > 20 ~ \"Standard\",\n",
    "      TRUE ~ \"Small\"\n",
    "    ),\n",
    "\n",
    "    # TODO: Create High_Value_Customer flag (Yes/No for Revenue > 25000)\n",
    "    High_Value_Customer = if_else(Revenue > 25000, \"Yes\", \"No\"),\n",
    "    # TODO: Create Profitable_Deal flag (Yes/No for Profit_Margin > 40)\n",
    "    Profitable_Deal = if_else(Profit_Margin > 40, \"Yes\", \"No\")\n",
    "  )\n",
    "\n",
    "# Examine the distribution of categorical variables\n",
    "# TODO: Use table() to show the distribution of Performance_Category\n",
    "table(company_data$Performance_Category)\n",
    "\n",
    "# TODO: Use table() to show the distribution of Revenue_Size\n",
    "table(company_data$Revenue_Size)\n",
    "\n",
    "# TODO: Use table() to show the distribution of High_Value_Customer\n",
    "table(company_data$High_Value_Customer)"
   ]
  },
  {
   "cell_type": "markdown",
   "id": "d0e957c6",
   "metadata": {},
   "source": [
    "## Part 4: Summary Statistics with summarize()\n",
    "\n",
    "**Task**: Use `summarize()` to calculate key business metrics and overall performance indicators.\n",
    "\n",
    "**Business Context**: Executive dashboards and business reports rely on aggregate statistics to provide high-level insights. These summary metrics help stakeholders quickly understand overall business performance.\n",
    "\n",
    "**Metrics to calculate**:\n",
    "1. **Total Revenue** and **Total Profit**\n",
    "2. **Average Profit Margin** and **Average ROI**\n",
    "3. **Total Units Sold** and **Total Transactions**\n",
    "4. **Revenue Statistics**: Min, Max, Mean, Median, Standard Deviation\n",
    "5. **Profit Margin Statistics**: Quartiles and distribution metrics\n",
    "\n",
    "**Hint**: You can calculate multiple summary statistics in a single `summarize()` call. Use functions like `sum()`, `mean()`, `median()`, `min()`, `max()`, `sd()`, and `n()`."
   ]
  },
  {
   "cell_type": "code",
   "execution_count": null,
   "id": "0ec870a8",
   "metadata": {
    "vscode": {
     "languageId": "r"
    }
   },
   "outputs": [
    {
     "name": "stdout",
     "output_type": "stream",
     "text": [
      "[1] \"Overall Business Performance Summary:\"\n",
      "\u001b[90m# A tibble: 1 × 7\u001b[39m\n",
      "  total_revenue total_profit avg_profit_margin avg_roi total_units\n",
      "          \u001b[3m\u001b[90m<dbl>\u001b[39m\u001b[23m        \u001b[3m\u001b[90m<dbl>\u001b[39m\u001b[23m             \u001b[3m\u001b[90m<dbl>\u001b[39m\u001b[23m   \u001b[3m\u001b[90m<dbl>\u001b[39m\u001b[23m       \u001b[3m\u001b[90m<dbl>\u001b[39m\u001b[23m\n",
      "\u001b[90m1\u001b[39m      7\u001b[4m7\u001b[24m\u001b[4m7\u001b[24m\u001b[4m1\u001b[24m711.     3\u001b[4m4\u001b[24m\u001b[4m0\u001b[24m\u001b[4m7\u001b[24m512.              44.2    93.5       \u001b[4m1\u001b[24m\u001b[4m6\u001b[24m169\n",
      "\u001b[90m# ℹ 2 more variables: transaction_count <int>,\u001b[39m\n",
      "\u001b[90m#   avg_revenue_per_transaction <dbl>\u001b[39m\n",
      "[1] \"\\nDetailed Revenue Statistics:\"\n",
      "\u001b[90m# A tibble: 1 × 5\u001b[39m\n",
      "  min_revenue max_revenue mean_revenue median_revenue sd_revenue\n",
      "        \u001b[3m\u001b[90m<dbl>\u001b[39m\u001b[23m       \u001b[3m\u001b[90m<dbl>\u001b[39m\u001b[23m        \u001b[3m\u001b[90m<dbl>\u001b[39m\u001b[23m          \u001b[3m\u001b[90m<dbl>\u001b[39m\u001b[23m      \u001b[3m\u001b[90m<dbl>\u001b[39m\u001b[23m\n",
      "\u001b[90m1\u001b[39m       \u001b[4m1\u001b[24m032.      \u001b[4m4\u001b[24m\u001b[4m9\u001b[24m956.       \u001b[4m2\u001b[24m\u001b[4m5\u001b[24m906.         \u001b[4m2\u001b[24m\u001b[4m6\u001b[24m062.     \u001b[4m1\u001b[24m\u001b[4m3\u001b[24m944.\n"
     ]
    }
   ],
   "source": [
    "# Calculate overall business summary statistics\n",
    "business_summary <- company_data %>%\n",
    "  summarize(\n",
    "    # TODO: Calculate total_revenue (sum of Revenue)\n",
    "    total_revenue = sum(Revenue),\n",
    "    # TODO: Calculate total_profit (sum of Profit)\n",
    "    total_profit = sum(Profit),\n",
    "    # TODO: Calculate avg_profit_margin (mean of Profit_Margin)\n",
    "    avg_profit_margin = mean(Profit_Margin),\n",
    "    # TODO: Calculate avg_roi (mean of ROI)\n",
    "    avg_roi = mean(ROI),\n",
    "    # TODO: Calculate total_units (sum of Units_Sold)\n",
    "    total_units = sum(Units_Sold),\n",
    "    # TODO: Calculate transaction_count (use n())\n",
    "    transaction_count = n(),\n",
    "    # TODO: Calculate avg_revenue_per_transaction (mean of Revenue)\n",
    "    avg_revenue_per_transaction = mean(Revenue)\n",
    "  )\n",
    "\n",
    "# Display the business summary\n",
    "print(\"Overall Business Performance Summary:\")\n",
    "print(business_summary)\n",
    "\n",
    "# Calculate detailed revenue statistics\n",
    "revenue_statistics <- company_data %>%\n",
    "  summarize(\n",
    "    # TODO: Calculate revenue statistics: min, max, mean, median, sd\n",
    "    min_revenue = min(Revenue),\n",
    "    max_revenue = max(Revenue),\n",
    "    mean_revenue = mean(Revenue),\n",
    "    median_revenue = median(Revenue),\n",
    "    sd_revenue = sd(Revenue)\n",
    "  )\n",
    "\n",
    "print(\"\\nDetailed Revenue Statistics:\")\n",
    "print(revenue_statistics)"
   ]
  },
  {
   "cell_type": "markdown",
   "id": "5a35dfd2",
   "metadata": {},
   "source": [
    "## Part 5: Grouped Analysis with group_by()\n",
    "\n",
    "**Task**: Use `group_by()` combined with `summarize()` to analyze performance across different business dimensions.\n",
    "\n",
    "**Business Context**: Understanding how different segments perform is crucial for strategic decision-making. Regional analysis helps with resource allocation, product analysis guides inventory decisions, and sales rep analysis informs performance management.\n",
    "\n",
    "**Analyses to perform**:\n",
    "1. **Regional Analysis**: Performance by Region\n",
    "2. **Product Category Analysis**: Performance by Product_Category  \n",
    "3. **Performance Category Analysis**: Compare High/Medium/Low performers\n",
    "4. **Sales Rep Analysis**: Individual representative performance\n",
    "\n",
    "**Metrics for each group**:\n",
    "- Total Revenue and Profit\n",
    "- Average Profit Margin\n",
    "- Transaction Count\n",
    "- Total Units Sold\n",
    "- Revenue Share (percentage of total)\n",
    "\n",
    "**Hint**: Use `group_by()` followed by `summarize()`, and don't forget to use `arrange(desc())` to sort by key metrics."
   ]
  },
  {
   "cell_type": "code",
   "execution_count": null,
   "id": "f9a05150",
   "metadata": {
    "vscode": {
     "languageId": "r"
    }
   },
   "outputs": [
    {
     "name": "stdout",
     "output_type": "stream",
     "text": [
      "[1] \"Regional Performance Analysis:\"\n"
     ]
    },
    {
     "name": "stdout",
     "output_type": "stream",
     "text": [
      "\u001b[90m# A tibble: 4 × 7\u001b[39m\n",
      "  Region        total_revenue total_profit avg_profit_margin transaction_count\n",
      "  \u001b[3m\u001b[90m<chr>\u001b[39m\u001b[23m                 \u001b[3m\u001b[90m<dbl>\u001b[39m\u001b[23m        \u001b[3m\u001b[90m<dbl>\u001b[39m\u001b[23m             \u001b[3m\u001b[90m<dbl>\u001b[39m\u001b[23m             \u001b[3m\u001b[90m<int>\u001b[39m\u001b[23m\n",
      "\u001b[90m1\u001b[39m Europe             2\u001b[4m2\u001b[24m\u001b[4m2\u001b[24m\u001b[4m4\u001b[24m182.     1\u001b[4m0\u001b[24m\u001b[4m0\u001b[24m\u001b[4m6\u001b[24m807.              45.5                82\n",
      "\u001b[90m2\u001b[39m Latin America      2\u001b[4m1\u001b[24m\u001b[4m1\u001b[24m\u001b[4m2\u001b[24m037.      \u001b[4m8\u001b[24m\u001b[4m9\u001b[24m\u001b[4m1\u001b[24m481.              43.0                83\n",
      "\u001b[90m3\u001b[39m Asia Pacific       1\u001b[4m8\u001b[24m\u001b[4m0\u001b[24m\u001b[4m4\u001b[24m243.      \u001b[4m8\u001b[24m\u001b[4m2\u001b[24m\u001b[4m7\u001b[24m243.              46.0                67\n",
      "\u001b[90m4\u001b[39m North America      1\u001b[4m6\u001b[24m\u001b[4m3\u001b[24m\u001b[4m1\u001b[24m248.      \u001b[4m6\u001b[24m\u001b[4m8\u001b[24m\u001b[4m1\u001b[24m981.              42.4                68\n",
      "\u001b[90m# ℹ 2 more variables: total_units <dbl>, revenue_share <dbl>\u001b[39m\n"
     ]
    }
   ],
   "source": [
    "# Regional Analysis\n",
    "regional_performance <- company_data %>%\n",
    "  group_by(Region) %>%\n",
    "  summarize(\n",
    "    # TODO: Calculate total_revenue, total_profit, avg_profit_margin, \n",
    "    # transaction_count, total_units for each region\n",
    "    total_revenue = sum(Revenue),\n",
    "total_profit = sum(Profit),\n",
    "avg_profit_margin = mean(Profit_Margin),\n",
    "transaction_count = n(),\n",
    "total_units = sum(Units_Sold),\n",
    "    .groups = 'drop'  # Remove grouping\n",
    "  ) %>%\n",
    "  # TODO: Add revenue_share calculation (total_revenue / sum(total_revenue) * 100)\n",
    "  mutate(\n",
    "    revenue_share = (total_revenue / sum(total_revenue)) *100\n",
    "  ) %>%\n",
    "  # TODO: Arrange by total_revenue in descending order\n",
    "  arrange(desc(total_revenue))\n",
    "\n",
    "print(\"Regional Performance Analysis:\")\n",
    "print(regional_performance)"
   ]
  },
  {
   "cell_type": "code",
   "execution_count": null,
   "id": "c7724570",
   "metadata": {
    "vscode": {
     "languageId": "r"
    }
   },
   "outputs": [
    {
     "name": "stdout",
     "output_type": "stream",
     "text": [
      "[1] \"Product Category Performance Analysis:\"\n",
      "\u001b[90m# A tibble: 1 × 6\u001b[39m\n",
      "  total_revenue total_profit avg_profit_margin transaction_count total_units\n",
      "          \u001b[3m\u001b[90m<dbl>\u001b[39m\u001b[23m        \u001b[3m\u001b[90m<dbl>\u001b[39m\u001b[23m             \u001b[3m\u001b[90m<dbl>\u001b[39m\u001b[23m             \u001b[3m\u001b[90m<int>\u001b[39m\u001b[23m       \u001b[3m\u001b[90m<dbl>\u001b[39m\u001b[23m\n",
      "\u001b[90m1\u001b[39m      7\u001b[4m7\u001b[24m\u001b[4m7\u001b[24m\u001b[4m1\u001b[24m711.     3\u001b[4m4\u001b[24m\u001b[4m0\u001b[24m\u001b[4m7\u001b[24m512.              44.2               300       \u001b[4m1\u001b[24m\u001b[4m6\u001b[24m169\n",
      "\u001b[90m# ℹ 1 more variable: revenue_share <dbl>\u001b[39m\n"
     ]
    }
   ],
   "source": [
    "# Product Category Analysis\n",
    "category_performance <- company_data %>%\n",
    "  group_by() %>%  # TODO: Group by Product_Category\n",
    "  summarize(\n",
    "    # TODO: Calculate the same metrics as regional analysis\n",
    "     total_revenue = sum(Revenue),\n",
    "    total_profit = sum(Profit),\n",
    "    avg_profit_margin = mean(Profit_Margin),\n",
    "    transaction_count = n(),\n",
    "    total_units = sum(Units_Sold),\n",
    "    .groups = 'drop'\n",
    "  ) %>%\n",
    "  # TODO: Add revenue_share and arrange by total_revenue\n",
    "  mutate(\n",
    "    revenue_share = (total_revenue / sum(total_revenue)) * 100\n",
    "  ) %>%\n",
    "  arrange(desc(total_revenue))\n",
    "\n",
    "print(\"Product Category Performance Analysis:\")\n",
    "print(category_performance)"
   ]
  },
  {
   "cell_type": "code",
   "execution_count": null,
   "id": "d89516fa",
   "metadata": {
    "vscode": {
     "languageId": "r"
    }
   },
   "outputs": [
    {
     "name": "stdout",
     "output_type": "stream",
     "text": [
      "[1] \"Performance Category Analysis:\"\n",
      "\u001b[90m# A tibble: 3 × 7\u001b[39m\n",
      "  Performance_Category total_revenue total_profit avg_profit_margin\n",
      "  \u001b[3m\u001b[90m<chr>\u001b[39m\u001b[23m                        \u001b[3m\u001b[90m<dbl>\u001b[39m\u001b[23m        \u001b[3m\u001b[90m<dbl>\u001b[39m\u001b[23m             \u001b[3m\u001b[90m<dbl>\u001b[39m\u001b[23m\n",
      "\u001b[90m1\u001b[39m High                      2\u001b[4m7\u001b[24m\u001b[4m7\u001b[24m\u001b[4m1\u001b[24m248.     1\u001b[4m6\u001b[24m\u001b[4m8\u001b[24m\u001b[4m2\u001b[24m947.              60.1\n",
      "\u001b[90m2\u001b[39m Low                       1\u001b[4m8\u001b[24m\u001b[4m1\u001b[24m\u001b[4m3\u001b[24m077.      \u001b[4m4\u001b[24m\u001b[4m5\u001b[24m\u001b[4m7\u001b[24m363.              25.3\n",
      "\u001b[90m3\u001b[39m Medium                    3\u001b[4m1\u001b[24m\u001b[4m8\u001b[24m\u001b[4m7\u001b[24m386.     1\u001b[4m2\u001b[24m\u001b[4m6\u001b[24m\u001b[4m7\u001b[24m202.              39.8\n",
      "\u001b[90m# ℹ 3 more variables: transaction_count <int>, total_units <dbl>,\u001b[39m\n",
      "\u001b[90m#   revenue_share <dbl>\u001b[39m\n"
     ]
    }
   ],
   "source": [
    "# Performance Category Analysis (High/Medium/Low performers)\n",
    "performance_analysis <- company_data %>%\n",
    "  group_by(Performance_Category) %>%\n",
    "  summarize(\n",
    "    # TODO: Calculate summary metrics for each performance level\n",
    "    total_revenue = sum(Revenue),\n",
    "    total_profit = sum(Profit),\n",
    "    avg_profit_margin = mean(Profit_Margin),\n",
    "    transaction_count = n(),\n",
    "    total_units = sum(Units_Sold),\n",
    "    .groups = 'drop'\n",
    "  ) %>%\n",
    "  # TODO: Add revenue_share calculation\n",
    "  mutate(\n",
    "    revenue_share = (total_revenue / sum(total_revenue)) * 100\n",
    "  )\n",
    "\n",
    "print(\"Performance Category Analysis:\")\n",
    "print(performance_analysis)"
   ]
  },
  {
   "cell_type": "markdown",
   "id": "bb30b28c",
   "metadata": {},
   "source": [
    "## Part 6: Advanced Grouping and Cross-Tabulation\n",
    "\n",
    "**Task**: Perform multi-dimensional analysis and frequency counting using `count()` and advanced grouping.\n",
    "\n",
    "**Business Context**: Real business questions often require analysis across multiple dimensions simultaneously. For example, \"Which product categories perform best in each region?\" requires cross-tabulation analysis.\n",
    "\n",
    "**Analyses to perform**:\n",
    "1. **Multi-dimensional grouping**: Region × Product Category performance\n",
    "2. **Count analysis**: Frequency distributions using `count()`\n",
    "3. **Cross-tabulation**: Performance Category vs Revenue Size\n",
    "4. **Time-based analysis**: Performance by time periods (if date data available)\n",
    "\n",
    "**Hint**: Use `count()` for frequency analysis and multiple variables in `group_by()` for cross-dimensional analysis."
   ]
  },
  {
   "cell_type": "code",
   "execution_count": null,
   "id": "fb5fedac",
   "metadata": {
    "vscode": {
     "languageId": "r"
    }
   },
   "outputs": [
    {
     "name": "stdout",
     "output_type": "stream",
     "text": [
      "[1] \"Top 10 Region-Product Category Combinations:\"\n",
      "\u001b[90m# A tibble: 1 × 3\u001b[39m\n",
      "  total_revenue transation_count avg_profit_margin\n",
      "          \u001b[3m\u001b[90m<dbl>\u001b[39m\u001b[23m            \u001b[3m\u001b[90m<int>\u001b[39m\u001b[23m             \u001b[3m\u001b[90m<dbl>\u001b[39m\u001b[23m\n",
      "\u001b[90m1\u001b[39m      7\u001b[4m7\u001b[24m\u001b[4m7\u001b[24m\u001b[4m1\u001b[24m711.              300              44.2\n"
     ]
    }
   ],
   "source": [
    "# Multi-dimensional analysis: Region and Product Category\n",
    "region_category_analysis <- company_data %>%\n",
    "  group_by() %>%  # TODO: Group by Region and Product_Category\n",
    "  summarize(\n",
    "    # TODO: Calculate total_revenue, transaction_count, avg_profit_margin\n",
    "    total_revenue = sum(Revenue),\n",
    "    transation_count = n(),\n",
    "    avg_profit_margin = mean(Profit_Margin),\n",
    "    .groups = 'drop'\n",
    "  ) %>%\n",
    "  # TODO: Arrange by total_revenue descending\n",
    "  arrange(desc(total_revenue))\n",
    "\n",
    "print(\"Top 10 Region-Product Category Combinations:\")\n",
    "print(head(region_category_analysis, 10))"
   ]
  },
  {
   "cell_type": "code",
   "execution_count": null,
   "id": "c508ab48",
   "metadata": {
    "vscode": {
     "languageId": "r"
    }
   },
   "outputs": [
    {
     "name": "stdout",
     "output_type": "stream",
     "text": [
      "[1] \"Frequency Analysis:\"\n",
      "[1] \"Performance Category Distribution:\"\n",
      "\u001b[90m# A tibble: 3 × 2\u001b[39m\n",
      "  Performance_Category     n\n",
      "  \u001b[3m\u001b[90m<chr>\u001b[39m\u001b[23m                \u001b[3m\u001b[90m<int>\u001b[39m\u001b[23m\n",
      "\u001b[90m1\u001b[39m High                   113\n",
      "\u001b[90m2\u001b[39m Low                     66\n",
      "\u001b[90m3\u001b[39m Medium                 121\n",
      "[1] \"Revenue Size Distribution:\"\n",
      "\u001b[90m# A tibble: 3 × 2\u001b[39m\n",
      "  Revenue_Size     n\n",
      "  \u001b[3m\u001b[90m<chr>\u001b[39m\u001b[23m        \u001b[3m\u001b[90m<int>\u001b[39m\u001b[23m\n",
      "\u001b[90m1\u001b[39m Large          122\n",
      "\u001b[90m2\u001b[39m Low             74\n",
      "\u001b[90m3\u001b[39m Medium         104\n",
      "[1] \"Deal Size Distribution:\"\n",
      "\u001b[90m# A tibble: 3 × 2\u001b[39m\n",
      "  Deal_Size     n\n",
      "  \u001b[3m\u001b[90m<chr>\u001b[39m\u001b[23m     \u001b[3m\u001b[90m<int>\u001b[39m\u001b[23m\n",
      "\u001b[90m1\u001b[39m Bulk        159\n",
      "\u001b[90m2\u001b[39m Small        51\n",
      "\u001b[90m3\u001b[39m Standard     90\n"
     ]
    }
   ],
   "source": [
    "# Frequency analysis using count()\n",
    "print(\"Frequency Analysis:\")\n",
    "\n",
    "# TODO: Count by Performance_Category\n",
    "performance_counts <- company_data %>%\n",
    "  count(Performance_Category)\n",
    "\n",
    "print(\"Performance Category Distribution:\")\n",
    "print(performance_counts)\n",
    "\n",
    "# TODO: Count by Revenue_Size\n",
    "revenue_size_counts <- company_data %>%\n",
    "  count(Revenue_Size)\n",
    "\n",
    "print(\"Revenue Size Distribution:\")\n",
    "print(revenue_size_counts)\n",
    "\n",
    "# TODO: Count by Deal_Size\n",
    "deal_size_counts <- company_data %>%\n",
    "  count(Deal_Size)\n",
    "\n",
    "print(\"Deal Size Distribution:\")\n",
    "print(deal_size_counts)"
   ]
  },
  {
   "cell_type": "code",
   "execution_count": null,
   "id": "6c01f673",
   "metadata": {
    "vscode": {
     "languageId": "r"
    }
   },
   "outputs": [
    {
     "name": "stdout",
     "output_type": "stream",
     "text": [
      "[1] \"Cross-Tabulation Analysis:\"\n",
      "[1] \"Performance Category vs Revenue Size:\"\n",
      "\u001b[90m# A tibble: 3 × 4\u001b[39m\n",
      "  Performance_Category Large   Low Medium\n",
      "  \u001b[3m\u001b[90m<chr>\u001b[39m\u001b[23m                \u001b[3m\u001b[90m<int>\u001b[39m\u001b[23m \u001b[3m\u001b[90m<int>\u001b[39m\u001b[23m  \u001b[3m\u001b[90m<int>\u001b[39m\u001b[23m\n",
      "\u001b[90m1\u001b[39m High                    41    34     38\n",
      "\u001b[90m2\u001b[39m Low                     28     8     30\n",
      "\u001b[90m3\u001b[39m Medium                  53    32     36\n",
      "[1] \"\\nUsing table() function:\"\n"
     ]
    },
    {
     "data": {
      "text/plain": [
       "        \n",
       "         Large Low Medium\n",
       "  High      41  34     38\n",
       "  Low       28   8     30\n",
       "  Medium    53  32     36"
      ]
     },
     "metadata": {},
     "output_type": "display_data"
    }
   ],
   "source": [
    "# Cross-tabulation analysis\n",
    "print(\"Cross-Tabulation Analysis:\")\n",
    "\n",
    "# TODO: Create a cross-tabulation of Performance_Category vs Revenue_Size\n",
    "# Hint: Use count() with two variables, then consider using pivot_wider() or table()\n",
    "cross_tab_performance_revenue <- company_data %>%\n",
    "  count(Performance_Category, Revenue_Size) %>%\n",
    "  pivot_wider(names_from = Revenue_Size, values_from = n, values_fill = 0)\n",
    "\n",
    "print(\"Performance Category vs Revenue Size:\")\n",
    "print(cross_tab_performance_revenue)\n",
    "\n",
    "# Alternative using base R table function\n",
    "print(\"\\nUsing table() function:\")\n",
    "# TODO: Create table(company_data$Performance_Category, company_data$Revenue_Size)\n",
    "table(company_data$Performance_Category, company_data$Revenue_Size)"
   ]
  },
  {
   "cell_type": "markdown",
   "id": "5e39eb29",
   "metadata": {},
   "source": [
    "## Part 7: Business Intelligence Dashboard\n",
    "\n",
    "**Task**: Create a comprehensive business intelligence summary that combines all your analysis techniques.\n",
    "\n",
    "**Business Context**: Executive dashboards consolidate multiple analyses into actionable insights. This section simulates creating a report that would be presented to business stakeholders for strategic decision-making.\n",
    "\n",
    "**Dashboard sections to create**:\n",
    "1. **Key Performance Indicators (KPIs)**: Overall business health metrics\n",
    "2. **Top Performers**: Best regions, categories, and sales representatives\n",
    "3. **Performance Insights**: Distribution of high/medium/low performers\n",
    "4. **Efficiency Metrics**: Cost ratios, ROI, and operational efficiency\n",
    "5. **Strategic Recommendations**: Data-driven business recommendations\n",
    "\n",
    "**Hint**: Use `cat()` or `print()` statements to create formatted output that resembles a professional business report."
   ]
  },
  {
   "cell_type": "code",
   "execution_count": null,
   "id": "f5295e7c",
   "metadata": {
    "vscode": {
     "languageId": "r"
    }
   },
   "outputs": [
    {
     "name": "stdout",
     "output_type": "stream",
     "text": [
      "\n",
      " = = = = = = = = = = = = = = = = = = = = = = = = = = = = = = = = = = = = = = = = = = = = = = = = = = = = = = = = = = = = = \n",
      "              BUSINESS INTELLIGENCE DASHBOARD\n",
      "= = = = = = = = = = = = = = = = = = = = = = = = = = = = = = = = = = = = = = = = = = = = = = = = = = = = = = = = = = = = = \n",
      "\n",
      "📊 KEY PERFORMANCE INDICATORS\n",
      "─────────────────────────────────\n",
      "Total Revenue: $ 7,771,711 \n",
      "Total Profit: $ 3,407,512 \n",
      "Overall Profit Margin:  44.22 %\n",
      "Total Transactions:  300 \n",
      "Average Deal Size: $ 25,905.7 \n",
      "High-Value Customer Rate:  51.33 %\n",
      "Profitable Deal Rate:  56 %\n",
      "\n",
      "🏆 TOP PERFORMERS\n",
      "─────────────────\n",
      "Top Region:  Europe  ($ 2,224,182 )\n",
      "Top Product Category:  Consulting  ($ 1,978,840 )\n",
      "\n",
      "📈 PERFORMANCE DISTRIBUTION\n",
      "──────────────────────────\n",
      "High: 113 transactions (37.7%)\n",
      "Low: 66 transactions (22%)\n",
      "Medium: 121 transactions (40.3%)\n"
     ]
    }
   ],
   "source": [
    "# Create a comprehensive business intelligence dashboard\n",
    "cat(\"\\n\", \"=\", rep(\"=\", 60), \"\\n\")\n",
    "cat(\"              BUSINESS INTELLIGENCE DASHBOARD\\n\")\n",
    "cat(\"=\", rep(\"=\", 60), \"\\n\\n\")\n",
    "\n",
    "# Section 1: Key Performance Indicators\n",
    "cat(\"📊 KEY PERFORMANCE INDICATORS\\n\")\n",
    "cat(\"─────────────────────────────────\\n\")\n",
    "\n",
    "# TODO: Calculate and display overall KPIs\n",
    "# - Total Revenue, Total Profit, Overall Profit Margin\n",
    "# - Total Transactions, Average Deal Size\n",
    "# - High-Value Customer Rate, Profitable Deal Rate\n",
    "\n",
    "kpi_summary <- company_data %>%\n",
    "  summarize(\n",
    "    # TODO: Add your KPI calculations here\n",
    "    total_revenue = sum(Revenue, na.rm = TRUE),\n",
    "    total_profit = sum(Profit, na.rm = TRUE),\n",
    "    overall_profit_margin = mean(Profit_Margin, na.rm = TRUE),\n",
    "    total_transactions = n(),\n",
    "    avg_deal_size = mean(Revenue, na.rm = TRUE),\n",
    "    high_value_rate = mean(High_Value_Customer == \"Yes\") * 100,\n",
    "    profitable_deal_rate = mean(Profitable_Deal == \"Yes\") * 100\n",
    "  )\n",
    "\n",
    "# TODO: Display KPIs using cat() or print() with proper formatting\n",
    "\n",
    "cat(\"Total Revenue: $\", format(kpi_summary$total_revenue, big.mark = \",\"), \"\\n\")\n",
    "cat(\"Total Profit: $\", format(kpi_summary$total_profit, big.mark = \",\"), \"\\n\")\n",
    "cat(\"Overall Profit Margin: \", round(kpi_summary$overall_profit_margin, 2), \"%\\n\")\n",
    "cat(\"Total Transactions: \", kpi_summary$total_transactions, \"\\n\")\n",
    "cat(\"Average Deal Size: $\", format(round(kpi_summary$avg_deal_size, 2), big.mark = \",\"), \"\\n\")\n",
    "cat(\"High-Value Customer Rate: \", round(kpi_summary$high_value_rate, 2), \"%\\n\")\n",
    "cat(\"Profitable Deal Rate: \", round(kpi_summary$profitable_deal_rate, 2), \"%\\n\")\n",
    "\n",
    "\n",
    "# Section 2: Top Performers\n",
    "cat(\"\\n🏆 TOP PERFORMERS\\n\")\n",
    "cat(\"─────────────────\\n\")\n",
    "\n",
    "# TODO: Display top performing region\n",
    "top_region <- company_data %>%\n",
    "  group_by(Region) %>%\n",
    "  summarize(total_revenue = sum(Revenue, na.rm = TRUE), .groups = \"drop\") %>%\n",
    "  arrange(desc(total_revenue)) %>%\n",
    "  slice(1)\n",
    "\n",
    "  top_category <- company_data %>%\n",
    "  group_by(Product_Category) %>%\n",
    "  summarize(total_revenue = sum(Revenue, na.rm = TRUE), .groups = \"drop\") %>%\n",
    "  arrange(desc(total_revenue)) %>%\n",
    "  slice(1)\n",
    "\n",
    "# TODO: Get the region with highest total revenue\n",
    "cat(\"Top Region: \", top_region$Region, \" ($\", format(top_region$total_revenue, big.mark = \",\"), \")\\n\")\n",
    "\n",
    "# TODO: Display top performing product category  \n",
    "cat(\"Top Product Category: \", top_category$Product_Category, \" ($\", format(top_category$total_revenue, big.mark = \",\"), \")\\n\")\n",
    "# TODO: Get the product category with highest total revenue\n",
    "perf_dist <- company_data %>%\n",
    "  count(Performance_Category) %>%\n",
    "  mutate(percent = round(n / sum(n) * 100, 1))\n",
    "\n",
    "# TODO: Display performance distribution\n",
    "cat(\"\\n📈 PERFORMANCE DISTRIBUTION\\n\")\n",
    "cat(\"──────────────────────────\\n\")\n",
    "# TODO: Show the count and percentage of High/Medium/Low performers\n",
    "for (i in 1:nrow(perf_dist)) {\n",
    "  cat(perf_dist$Performance_Category[i], \": \", perf_dist$n[i], \" transactions (\", perf_dist$percent[i], \"%)\\n\", sep = \"\")\n",
    "}"
   ]
  },
  {
   "cell_type": "markdown",
   "id": "ad69551d",
   "metadata": {},
   "source": [
    "## Part 8: Data Validation and Quality Checks\n",
    "\n",
    "**Task**: Validate your calculated fields and check for data quality issues.\n",
    "\n",
    "**Business Context**: Data quality is paramount in business analytics. Before presenting results to stakeholders, analysts must verify that calculations are correct and identify any data anomalies that could affect decision-making.\n",
    "\n",
    "## Part 8: Data Validation and Quality Checks\n",
    "\n",
    "**Task**: Validate your calculated fields and check for data quality issues.\n",
    "\n",
    "**Business Context**: Data quality is paramount in business analytics. Before presenting results to stakeholders, analysts must verify that calculations are correct and identify any data anomalies that could affect decision-making. In professional settings, data validation is often the difference between accurate insights and costly business mistakes.\n",
    "\n",
    "**Why Validation is Critical:**\n",
    "- **Stakeholder Trust**: Executives need confidence in your analysis\n",
    "- **Decision Impact**: Business decisions based on incorrect data can be costly\n",
    "- **Regulatory Compliance**: Many industries require data accuracy documentation\n",
    "- **Professional Credibility**: Accurate analysis establishes your reputation as a reliable analyst\n",
    "\n",
    "**Validation Methodology:**\n",
    "1. **Calculation Verification**: Mathematical accuracy of derived metrics\n",
    "2. **Range Validation**: Ensure values fall within business-logical ranges\n",
    "3. **Outlier Detection**: Identify unusual values that might indicate data issues\n",
    "4. **Consistency Checks**: Verify that related metrics align logically\n",
    "5. **Missing Value Analysis**: Check for gaps in critical business data\n",
    "6. **Business Logic Testing**: Ensure results make practical business sense\n",
    "\n",
    "**Professional Validation Techniques:**\n",
    "- Use `all.equal()` for precise mathematical verification\n",
    "- Apply `summary()` to identify outliers and impossible values\n",
    "- Implement logical tests for business rule compliance\n",
    "- Cross-check totals and subtotals for internal consistency\n",
    "- Validate categorical assignments against their criteria\n",
    "\n",
    "**Hint**: Think like a skeptical executive - question every calculation and assumption. If you can't defend your numbers, neither should your stakeholders trust them."
   ]
  },
  {
   "cell_type": "code",
   "execution_count": null,
   "id": "5f8f9dfe",
   "metadata": {
    "vscode": {
     "languageId": "r"
    }
   },
   "outputs": [
    {
     "name": "stdout",
     "output_type": "stream",
     "text": [
      "📋 COMPREHENSIVE DATA VALIDATION REPORT\n",
      "════════════════════════════════════════\n",
      "\n",
      "🧮 SECTION 1: CALCULATION VERIFICATION\n",
      "─────────────────────────────────────────\n",
      "✓ Profit calculation (Revenue - Cost): ✅ PASSED \n",
      "✓ Profit Margin calculation: ✅ PASSED \n",
      "✓ ROI calculation: ✅ PASSED \n",
      "\n",
      "📊 SECTION 2: RANGE AND OUTLIER VALIDATION\n",
      "──────────────────────────────────────────────\n",
      "⚠️  Extreme profit margins (>100% or <-50%):  0  transactions\n",
      "⚠️  Negative revenue values:  0  transactions\n",
      "⚠️  Invalid units sold (≤0):  0  transactions\n",
      "\n",
      "🔍 SECTION 3: MISSING DATA ANALYSIS\n",
      "──────────────────────────────────────\n",
      "Missing value analysis:\n",
      "  • Missing Revenue values:  0 \n",
      "  • Missing Cost values:  0 \n",
      "  • Missing Units_Sold values:  0 \n",
      "  • Missing Profit values:  0 \n",
      "\n",
      "🏷️  SECTION 4: CATEGORICAL VARIABLE VALIDATION\n",
      "─────────────────────────────────────────────────\n",
      "✓ High Performance category accuracy:  113 / 113  correctly assigned\n",
      "✓ Large Revenue_Size category accuracy:  122 / 122  correctly assigned\n",
      "\n",
      "📈 SECTION 5: SUMMARY STATISTICS REVIEW\n",
      "─────────────────────────────────────────\n",
      "Key financial metrics summary (check for reasonableness):\n",
      "\n",
      "Profit Margin Distribution:\n",
      "   Min. 1st Qu.  Median    Mean 3rd Qu.    Max. \n",
      "  20.13   31.17   43.70   44.22   56.55   69.93 \n",
      "\n",
      "ROI Distribution:\n",
      "   Min. 1st Qu.  Median    Mean 3rd Qu.    Max. \n",
      "  25.20   45.28   77.63   93.49  130.16  232.57 \n",
      "\n",
      "💼 SECTION 6: BUSINESS LOGIC VALIDATION\n",
      "─────────────────────────────────────────\n",
      "✓ Cost_Ratio + Profit_Margin = 100% check:  0  transactions outside tolerance\n",
      "✓ Revenue_Per_Unit calculation: ✅ PASSED \n",
      "\n",
      "📋 VALIDATION SUMMARY REPORT\n",
      "═══════════════════════════════\n",
      "Data validation completed. Review all sections above before proceeding.\n",
      "\n",
      "🎯 Next Steps:\n",
      "1. Investigate any failed validations or extreme values\n",
      "2. Document validation results for stakeholder presentation\n",
      "3. Consider data cleaning if significant issues are found\n",
      "4. Proceed with analysis only after validation passes\n",
      "\n",
      "⚠️  Remember: Never present unvalidated results to business stakeholders!\n"
     ]
    }
   ],
   "source": [
    "# Comprehensive Data Validation and Quality Assurance\n",
    "cat(\"📋 COMPREHENSIVE DATA VALIDATION REPORT\\n\")\n",
    "cat(\"════════════════════════════════════════\\n\\n\")\n",
    "\n",
    "# SECTION 1: Mathematical Calculation Verification\n",
    "cat(\"🧮 SECTION 1: CALCULATION VERIFICATION\\n\")\n",
    "cat(\"─────────────────────────────────────────\\n\")\n",
    "\n",
    "# 1. Validate profit calculation (Profit = Revenue - Cost)\n",
    "# TODO: Check if Profit equals Revenue - Cost using all.equal()\n",
    "profit_validation <- all.equal(company_data$Profit, company_data$Revenue - company_data$Cost)\n",
    "cat(\"✓ Profit calculation (Revenue - Cost): \")\n",
    "cat(ifelse(profit_validation == TRUE, \"✅ PASSED\", \"❌ FAILED\"), \"\\n\")\n",
    "\n",
    "# 2. Validate profit margin calculation ((Profit/Revenue)*100)\n",
    "# TODO: Check if Profit_Margin equals (Profit/Revenue)*100\n",
    "expected_profit_margin <- (company_data$Profit / company_data$Revenue) * 100\n",
    "margin_validation <- all.equal(company_data$Profit_Margin, expected_profit_margin)\n",
    "cat(\"✓ Profit Margin calculation: \")\n",
    "cat(ifelse(margin_validation == TRUE, \"✅ PASSED\", \"❌ FAILED\"), \"\\n\")\n",
    "\n",
    "# 3. Validate ROI calculation ((Profit/Cost)*100)\n",
    "# TODO: Check if ROI equals (Profit/Cost)*100\n",
    "expected_roi <- (company_data$Profit / company_data$Cost) * 100\n",
    "roi_validation <- all.equal(company_data$ROI, expected_roi)\n",
    "cat(\"✓ ROI calculation: \")\n",
    "cat(ifelse(roi_validation == TRUE, \"✅ PASSED\", \"❌ FAILED\"), \"\\n\")\n",
    "\n",
    "# SECTION 2: Range and Outlier Analysis\n",
    "cat(\"\\n📊 SECTION 2: RANGE AND OUTLIER VALIDATION\\n\")\n",
    "cat(\"──────────────────────────────────────────────\\n\")\n",
    "\n",
    "# 4. Check for extreme profit margins (business logic: should rarely exceed 100% or be below -50%)\n",
    "# TODO: Count transactions with extreme profit margins (>100% or <-50%)\n",
    "extreme_margins <- sum(company_data$Profit_Margin > 100 | company_data$Profit_Margin < -50, na.rm = TRUE)\n",
    "cat(\"⚠️  Extreme profit margins (>100% or <-50%): \", extreme_margins, \" transactions\\n\")\n",
    "\n",
    "# 5. Check for impossible business values\n",
    "# TODO: Count negative revenues (impossible in normal business)\n",
    "negative_revenue <- sum(company_data$Revenue < 0, na.rm = TRUE)\n",
    "cat(\"⚠️  Negative revenue values: \", negative_revenue, \" transactions\\n\")\n",
    "\n",
    "# TODO: Count zero or negative units sold (business logic violation)\n",
    "invalid_units <- sum(company_data$Units_Sold <= 0, na.rm = TRUE)\n",
    "cat(\"⚠️  Invalid units sold (≤0): \", invalid_units, \" transactions\\n\")\n",
    "\n",
    "# SECTION 3: Missing Data Analysis\n",
    "cat(\"\\n🔍 SECTION 3: MISSING DATA ANALYSIS\\n\")\n",
    "cat(\"──────────────────────────────────────\\n\")\n",
    "\n",
    "# 6. Check for missing values in critical business columns\n",
    "# TODO: Count missing values in Revenue, Cost, and Units_Sold\n",
    "cat(\"Missing value analysis:\\n\")\n",
    "missing_revenue <- sum(is.na(company_data$Revenue))\n",
    "missing_cost <- sum(is.na(company_data$Cost))\n",
    "missing_units <- sum(is.na(company_data$Units_Sold))\n",
    "missing_profit <- sum(is.na(company_data$Profit))\n",
    "\n",
    "cat(\"  • Missing Revenue values: \", missing_revenue, \"\\n\")\n",
    "cat(\"  • Missing Cost values: \", missing_cost, \"\\n\") \n",
    "cat(\"  • Missing Units_Sold values: \", missing_units, \"\\n\")\n",
    "cat(\"  • Missing Profit values: \", missing_profit, \"\\n\")\n",
    "\n",
    "# SECTION 4: Categorical Variable Validation\n",
    "cat(\"\\n🏷️  SECTION 4: CATEGORICAL VARIABLE VALIDATION\\n\")\n",
    "cat(\"─────────────────────────────────────────────────\\n\")\n",
    "\n",
    "# 7. Validate Performance_Category assignments\n",
    "# TODO: Check if High performers actually have Profit_Margin > 50\n",
    "high_perf_correct <- sum(company_data$Performance_Category == \"High\" & company_data$Profit_Margin > 50, na.rm = TRUE)\n",
    "high_perf_total <- sum(company_data$Performance_Category == \"High\", na.rm = TRUE)\n",
    "cat(\"✓ High Performance category accuracy: \", high_perf_correct, \"/\", high_perf_total, \" correctly assigned\\n\")\n",
    "\n",
    "# TODO: Check if Revenue_Size categories match their criteria\n",
    "large_revenue_correct <- sum(company_data$Revenue_Size == \"Large\" & company_data$Revenue > 30000, na.rm = TRUE)\n",
    "large_revenue_total <- sum(company_data$Revenue_Size == \"Large\", na.rm = TRUE)\n",
    "cat(\"✓ Large Revenue_Size category accuracy: \", large_revenue_correct, \"/\", large_revenue_total, \" correctly assigned\\n\")\n",
    "\n",
    "# SECTION 5: Summary Statistics Review\n",
    "cat(\"\\n📈 SECTION 5: SUMMARY STATISTICS REVIEW\\n\")\n",
    "cat(\"─────────────────────────────────────────\\n\")\n",
    "\n",
    "cat(\"Key financial metrics summary (check for reasonableness):\\n\")\n",
    "# TODO: Display summary statistics for Profit_Margin and ROI\n",
    "cat(\"\\nProfit Margin Distribution:\\n\")\n",
    "print(summary(company_data$Profit_Margin))\n",
    "\n",
    "cat(\"\\nROI Distribution:\\n\")\n",
    "print(summary(company_data$ROI))\n",
    "\n",
    "# SECTION 6: Business Logic Validation\n",
    "cat(\"\\n💼 SECTION 6: BUSINESS LOGIC VALIDATION\\n\")\n",
    "cat(\"─────────────────────────────────────────\\n\")\n",
    "\n",
    "# 8. Check if Cost_Ratio + Profit_Margin approximately equals 100%\n",
    "# TODO: Verify that Cost_Ratio + Profit_Margin ≈ 100% (allowing for rounding)\n",
    "total_percentage_check <- abs((company_data$Cost_Ratio + company_data$Profit_Margin) - 100)\n",
    "percentage_errors <- sum(total_percentage_check > 1, na.rm = TRUE)  # Allow 1% tolerance for rounding\n",
    "cat(\"✓ Cost_Ratio + Profit_Margin = 100% check: \", percentage_errors, \" transactions outside tolerance\\n\")\n",
    "\n",
    "# 9. Verify Revenue_Per_Unit and Cost_Per_Unit calculations\n",
    "# TODO: Check if Revenue_Per_Unit = Revenue / Units_Sold\n",
    "expected_revenue_per_unit <- company_data$Revenue / company_data$Units_Sold\n",
    "revenue_per_unit_check <- all.equal(company_data$Revenue_Per_Unit, expected_revenue_per_unit)\n",
    "cat(\"✓ Revenue_Per_Unit calculation: \")\n",
    "cat(ifelse(revenue_per_unit_check == TRUE, \"✅ PASSED\", \"❌ FAILED\"), \"\\n\")\n",
    "\n",
    "# VALIDATION SUMMARY\n",
    "cat(\"\\n📋 VALIDATION SUMMARY REPORT\\n\")\n",
    "cat(\"═══════════════════════════════\\n\")\n",
    "cat(\"Data validation completed. Review all sections above before proceeding.\\n\")\n",
    "cat(\"\\n🎯 Next Steps:\\n\")\n",
    "cat(\"1. Investigate any failed validations or extreme values\\n\")\n",
    "cat(\"2. Document validation results for stakeholder presentation\\n\")\n",
    "cat(\"3. Consider data cleaning if significant issues are found\\n\")\n",
    "cat(\"4. Proceed with analysis only after validation passes\\n\")\n",
    "cat(\"\\n⚠️  Remember: Never present unvalidated results to business stakeholders!\\n\")"
   ]
  },
  {
   "cell_type": "markdown",
   "id": "07f1fbcc",
   "metadata": {},
   "source": [
    "## Part 9: Business Insights and Recommendations\n",
    "\n",
    "**Task**: Synthesize your analysis into actionable business insights and strategic recommendations.\n",
    "\n",
    "**Business Context**: The ultimate goal of data analysis is to drive business decisions. This section requires you to think like a business consultant, translating your technical findings into strategic recommendations that stakeholders can act upon.\n",
    "\n",
    "**Required deliverables**:\n",
    "1. **Key Findings**: Top 3-5 most important insights from your analysis\n",
    "2. **Performance Gaps**: Areas where the business is underperforming\n",
    "3. **Opportunities**: Segments or regions with growth potential  \n",
    "4. **Strategic Recommendations**: Specific, actionable suggestions\n",
    "5. **Risk Factors**: Data-driven identification of potential business risks\n",
    "\n",
    "**Hint**: Frame your insights in business terms, focusing on revenue impact, efficiency improvements, and strategic opportunities rather than just statistical findings."
   ]
  },
  {
   "cell_type": "code",
   "execution_count": null,
   "id": "39e61cb5",
   "metadata": {
    "vscode": {
     "languageId": "r"
    }
   },
   "outputs": [
    {
     "name": "stdout",
     "output_type": "stream",
     "text": [
      "💡 BUSINESS INSIGHTS & RECOMMENDATIONS\n",
      "════════════════════════════════════════\n",
      "\n",
      "🔍 KEY FINDINGS:\n",
      "─────────────────\n",
      "1. Top Region:  Europe  generates $ 2,224,182  ( 28.6 % of total revenue)\n"
     ]
    },
    {
     "data": {
      "text/html": [
       "'High Value Deal Rate: 51.33%\\n'"
      ],
      "text/latex": [
       "'High Value Deal Rate: 51.33\\%\\textbackslash{}n'"
      ],
      "text/markdown": [
       "'High Value Deal Rate: 51.33%\\n'"
      ],
      "text/plain": [
       "[1] \"High Value Deal Rate: 51.33%\\n\""
      ]
     },
     "metadata": {},
     "output_type": "display_data"
    },
    {
     "data": {
      "text/html": [
       "'Product Category with Highest Margin: Asia Pacific Region - Avg Profit Margin = 46.0\\n'"
      ],
      "text/latex": [
       "'Product Category with Highest Margin: Asia Pacific Region - Avg Profit Margin = 46.0\\textbackslash{}n'"
      ],
      "text/markdown": [
       "'Product Category with Highest Margin: Asia Pacific Region - Avg Profit Margin = 46.0\\n'"
      ],
      "text/plain": [
       "[1] \"Product Category with Highest Margin: Asia Pacific Region - Avg Profit Margin = 46.0\\n\""
      ]
     },
     "metadata": {},
     "output_type": "display_data"
    },
    {
     "data": {
      "text/html": [
       "'High Performers: 113 Transactions, Medium Performers: 121 Transactions, Low Performers 66 Transactions = 300 Total Transactions\\n'"
      ],
      "text/latex": [
       "'High Performers: 113 Transactions, Medium Performers: 121 Transactions, Low Performers 66 Transactions = 300 Total Transactions\\textbackslash{}n'"
      ],
      "text/markdown": [
       "'High Performers: 113 Transactions, Medium Performers: 121 Transactions, Low Performers 66 Transactions = 300 Total Transactions\\n'"
      ],
      "text/plain": [
       "[1] \"High Performers: 113 Transactions, Medium Performers: 121 Transactions, Low Performers 66 Transactions = 300 Total Transactions\\n\""
      ]
     },
     "metadata": {},
     "output_type": "display_data"
    },
    {
     "data": {
      "text/html": [
       "<span style=white-space:pre-wrap>'Top Product Category:  Consulting  ($ 1,978,840 )\\n'</span>"
      ],
      "text/latex": [
       "'Top Product Category:  Consulting  (\\$ 1,978,840 )\\textbackslash{}n'"
      ],
      "text/markdown": [
       "<span style=white-space:pre-wrap>'Top Product Category:  Consulting  ($ 1,978,840 )\\n'</span>"
      ],
      "text/plain": [
       "[1] \"Top Product Category:  Consulting  ($ 1,978,840 )\\n\""
      ]
     },
     "metadata": {},
     "output_type": "display_data"
    },
    {
     "data": {
      "text/html": [
       "'Total Profit: $ 3,407,512\\n'"
      ],
      "text/latex": [
       "'Total Profit: \\$ 3,407,512\\textbackslash{}n'"
      ],
      "text/markdown": [
       "'Total Profit: $ 3,407,512\\n'"
      ],
      "text/plain": [
       "[1] \"Total Profit: $ 3,407,512\\n\""
      ]
     },
     "metadata": {},
     "output_type": "display_data"
    },
    {
     "data": {
      "text/html": [
       "'Average Deal Size: $ 25,905.7\\n'"
      ],
      "text/latex": [
       "'Average Deal Size: \\$ 25,905.7\\textbackslash{}n'"
      ],
      "text/markdown": [
       "'Average Deal Size: $ 25,905.7\\n'"
      ],
      "text/plain": [
       "[1] \"Average Deal Size: $ 25,905.7\\n\""
      ]
     },
     "metadata": {},
     "output_type": "display_data"
    },
    {
     "name": "stdout",
     "output_type": "stream",
     "text": [
      "\n",
      "💰 PERFORMANCE ANALYSIS:\n",
      "────────────────────────\n",
      "High Performers : 121 transactions (40.3%)\n",
      "Medium Performers : 113 transactions (37/7%)\n",
      "Low Performers : 66 Transactions (22.0%)\n",
      "\n",
      "🎯 STRATEGIC RECOMMENDATIONS:\n",
      "──────────────────────────────\n",
      "1. Have less efforts focused in our less profitable market in North America and put more focus on Asia Pacific with it's high margins or Europe with it's highest revenue\n",
      "2. Have our sales team's goal to raise High Performer transactions to 50% of transactions to raise profits\n",
      "3. Only Around half of business transactons are profitable so company goals should be to increase that percentage\n",
      "4. Should raise prices for medium performers to boost profitability\n",
      "5 Either raise low performers to medium performers or don't waste resources on smaller profits\n",
      "6. Focus on more bulk orders instead of small ones\n",
      "\n",
      "⚠️  RISK FACTORS & OPPORTUNITIES:\n",
      "──────────────────────────────────\n",
      "1. We have only half of deals bringing in profits to the company:\n",
      "2. We have a high inconsistency of deal sizes:\n",
      "3. 66 deals only bringing in $467k in profits are dragging performance down:\n"
     ]
    }
   ],
   "source": [
    "# Generate business insights and recommendations\n",
    "cat(\"💡 BUSINESS INSIGHTS & RECOMMENDATIONS\\n\")\n",
    "cat(\"════════════════════════════════════════\\n\\n\")\n",
    "\n",
    "cat(\"🔍 KEY FINDINGS:\\n\")\n",
    "cat(\"─────────────────\\n\")\n",
    "\n",
    "# TODO: Identify and present your top 3-5 key findings\n",
    "\n",
    "# 1. Which region generates the most revenue? \n",
    "top_region_data <- regional_performance %>% slice(1)\n",
    "cat(\"1. Top Region: \", top_region_data$Region, \" generates $\", \n",
    "    format(top_region_data$total_revenue, big.mark = \",\"), \n",
    "    \" (\", round(top_region_data$revenue_share, 1), \"% of total revenue)\\n\")\n",
    "# 2. What percentage of deals are highly profitable?\n",
    "(\"High Value Deal Rate: 51.33%\\n\")\n",
    "# 3. Which product category has the best margins?\n",
    "(\"Product Category with Highest Margin: Asia Pacific Region - Avg Profit Margin = 46.0\\n\")\n",
    "# 4. How many transactions fall into each performance category?\n",
    "(\"High Performers: 113 Transactions, Medium Performers: 121 Transactions, Low Performers 66 Transactions = 300 Total Transactions\\n\")\n",
    "# Find top performing region\n",
    "\n",
    "\n",
    "# TODO: Add 3-4 more key findings using your analysis results\n",
    "(\"Top Product Category:  Consulting  ($ 1,978,840 )\\n\")\n",
    "\n",
    "(\"Total Profit: $ 3,407,512\\n\")\n",
    "\n",
    "(\"Average Deal Size: $ 25,905.7\\n\")\n",
    "\n",
    "cat(\"\\n💰 PERFORMANCE ANALYSIS:\\n\")\n",
    "cat(\"────────────────────────\\n\")\n",
    "\n",
    "# TODO: Analyze the distribution of performance categories\n",
    "# What percentage are high/medium/low performers?\n",
    "cat(\"High Performers : 121 transactions (40.3%)\n",
    "Medium Performers : 113 transactions (37/7%)\n",
    "Low Performers : 66 Transactions (22.0%)\\n\")\n",
    "\n",
    "cat(\"\\n🎯 STRATEGIC RECOMMENDATIONS:\\n\") \n",
    "cat(\"──────────────────────────────\\n\")\n",
    "\n",
    "# TODO: Provide 4-5 specific, actionable recommendations based on your analysis\n",
    "cat(\"1. Have less efforts focused in our less profitable market in North America and put more focus on Asia Pacific with it's high margins or Europe with it's highest revenue\\n\")\n",
    "cat(\"2. Have our sales team's goal to raise High Performer transactions to 50% of transactions to raise profits\\n\")\n",
    "cat(\"3. Only Around half of business transactons are profitable so company goals should be to increase that percentage\\n\")\n",
    "cat(\"4. Should raise prices for medium performers to boost profitability\\n\")\n",
    "cat(\"5 Either raise low performers to medium performers or don't waste resources on smaller profits\\n\")\n",
    "cat(\"6. Focus on more bulk orders instead of small ones\\n\")\n",
    "\n",
    "\n",
    "cat(\"\\n⚠️  RISK FACTORS & OPPORTUNITIES:\\n\")\n",
    "cat(\"──────────────────────────────────\\n\")\n",
    "\n",
    "# TODO: Identify potential risks and opportunities based on your data analysis\n",
    "cat(\"1. We have only half of deals bringing in profits to the company:\\n\")\n",
    "cat(\"2. We have a high inconsistency of deal sizes:\\n\")\n",
    "cat(\"3. 66 deals only bringing in $467k in profits are dragging performance down:\\n\")\n"
   ]
  },
  {
   "cell_type": "markdown",
   "id": "383b31ce",
   "metadata": {},
   "source": [
    "## Reflection Questions\n",
    "\n",
    "**Task**: Answer the following questions to demonstrate your understanding of the business applications of data transformation.\n",
    "\n",
    "**Business Context**: Reflection is a critical part of the learning process in data analytics. Understanding not just how to perform analyses, but when and why to use different techniques, distinguishes proficient analysts from experts.\n",
    "\n",
    "**Questions to address**:\n",
    "\n",
    "1. **Technical Mastery**: Which dplyr function (mutate, summarize, group_by, count) did you find most powerful for business analysis, and why?\n",
    "\n",
    "2. **Business Impact**: What was the most surprising or valuable insight you discovered in your analysis?\n",
    "\n",
    "3. **Strategic Thinking**: If you were presenting these findings to a company executive, which 3 insights would you prioritize and why?\n",
    "\n",
    "4. **Methodology**: How did grouping and segmentation help reveal patterns that weren't visible in the raw data?\n",
    "\n",
    "5. **Future Applications**: What additional business questions could you answer with this dataset using the techniques you've learned?\n",
    "\n",
    "**Instructions**: Write thoughtful, paragraph-length responses that demonstrate both technical understanding and business acumen."
   ]
  },
  {
   "cell_type": "markdown",
   "id": "c3f3aabf",
   "metadata": {},
   "source": [
    "### Reflection Responses\n",
    "\n",
    "**1. Most Powerful Function for Business Analysis:**\n",
    "\n",
    "I found that summarize by far was a powerful dplyr due to the fact it condensed many rows of data to a single value. It was useful when calculating aggregate metrics simultaneously and creating KPI’s for the Dashboard. Along with summarize() when it’s used with group_by() makes it possible to to break the data down ever further. For example when looking at performance across multiple regions this made the process simple when trying to find total profit, total revenue, transaction count and average profit margin.\n",
    "\n",
    "**2. Most Valuable Business Insight:**\n",
    "\n",
    "What was the most surprising or valuable insight you discovered in your analysis? An insight that I thought was interesting during my analysis of the dataset was despite having approximately 51% of customers being High-Value only 56% of the total transactions actually generated profit. The reason why I thought this insight was the most surprising was that the High Value customer sales data would lead someone to assume that the business is making high profits from those sales but the 51% of actual profitable sales could tell a different story about profits. In my recommendations I said the company should address the 44% of unprofitable sales such as fixing the profit margins in those sales. \n",
    "\n",
    "\n",
    "**3. Top 3 Insights for Executive Presentation:**\n",
    "\n",
    "  First as addressed in the previous reflection, I would report to the executive that we are having profitability issues with our deals and have 44% of our deals not generating profit, despite having the majority of sales coming from High Value customers. To address this issue we should fix our profit margins with the High Value sales and or change our pricing strategies to lower our unprofitable deals. Next would be that we only have 37.7% of our sales operating at a high performance level meaning that 62.3% deals aren’t being capitalized. To fix this we should focus our resources to raise medium performers to high performers. Lastly would be to focus sales in our highest profit margin region, Asia Pacific, and our highest revenue region, Europe. To accomplish this we should move resources to Asia Pacific and Europe from our underperforming region, North America. The reasoning behind this would be that the North American region has low profit margins, low revenue, and low number of transactions. This shows us that our best ways of maximizing company profits would be to focus on our eastern hemisphere markets. \n",
    "\n",
    "**4. Value of Grouping and Segmentation:**\n",
    "\n",
    " It allowed for organizing the data into readable categories and values. Connecting multiple functions  in advanced analysis helped for comparison across multiple regions. Showing which regions were under performing, had high profit margins and total revenue. The raw data from the dataset couldn’t show where the company was the strongest and where it needed to improve but using the dplyr functions the data was able to to be simplified to a point where trends could be visible, which I later used in the KPI’s Dashboard. \n",
    "\n",
    "**5. Future Business Applications:**\n",
    "\n",
    " First “What prices could we charge to generate the most revenue while not overcharging customer?”  We would use a price analysis to do this using count(), mutate(), group_by(), and summarize() we would see how efficiently those products are selling and where the business would need to change prices accordingly. Another question that could be answered with the new dplyr functions I learned would be “Which months generate the most revenue?” using the new dplyr functions we could calculate total monthly revenue, average transaction revenue, and total number of transactions. With this information the prices for the month trends could be changed to maximize our revenue."
   ]
  },
  {
   "cell_type": "markdown",
   "id": "bad49f6e",
   "metadata": {},
   "source": [
    "## Submission Checklist\n",
    "\n",
    "Before submitting your homework, ensure you have completed all sections:\n",
    "\n",
    "### Technical Requirements\n",
    "- [ ] **Part 1**: Successfully imported data and performed initial exploration\n",
    "- [ ] **Part 2**: Created all required financial metrics using mutate()\n",
    "- [ ] **Part 3**: Developed categorical variables for business segmentation  \n",
    "- [ ] **Part 4**: Generated comprehensive summary statistics\n",
    "- [ ] **Part 5**: Performed grouped analysis by multiple business dimensions\n",
    "- [ ] **Part 6**: Conducted frequency analysis and cross-tabulations\n",
    "- [ ] **Part 7**: Created a professional business intelligence dashboard\n",
    "- [ ] **Part 8**: Validated data quality and calculation accuracy\n",
    "- [ ] **Part 9**: Synthesized findings into business insights and recommendations\n",
    "\n",
    "### Code Quality\n",
    "- [ ] All code sections are completed with working R code\n",
    "- [ ] Code is well-commented and follows best practices\n",
    "- [ ] Variable names are meaningful and consistent\n",
    "- [ ] Proper use of the pipe operator (%>%) for readable code chains\n",
    "- [ ] Appropriate use of .groups = 'drop' after group_by operations\n",
    "\n",
    "### Business Analysis\n",
    "- [ ] Analysis demonstrates understanding of business context\n",
    "- [ ] Insights are presented in business-friendly language\n",
    "- [ ] Recommendations are specific and actionable\n",
    "- [ ] Cross-dimensional analysis reveals meaningful patterns\n",
    "- [ ] Dashboard provides comprehensive performance overview\n",
    "\n",
    "### Reflection and Learning\n",
    "- [ ] Reflection questions answered thoughtfully and completely\n",
    "- [ ] Responses demonstrate both technical and business understanding\n",
    "- [ ] Examples from your own analysis support your reflections\n",
    "\n",
    "**Final Note**: This homework simulates real-world business analytics work. Focus not just on getting the right technical results, but on developing the analytical thinking skills that drive business value. In professional settings, your ability to translate data into actionable insights is what makes you valuable to an organization.\n",
    "\n",
    "**Good luck, and remember**: Great analysts don't just manipulate data—they uncover the stories that data tells about business performance and opportunities!\n",
    "\n",
    "---\n",
    "\n",
    "## 🚀 Ready to Submit?\n",
    "\n",
    "### Easy Submission Steps (No Command Line Required!):\n",
    "\n",
    "1. **Save this notebook** (Ctrl+S or File → Save)\n",
    "\n",
    "2. **Use VS Code Source Control**:\n",
    "   - Click the **Source Control** icon in the left sidebar (tree branch symbol)\n",
    "   - Click the **\"+\"** button next to your notebook file\n",
    "   - Type a message: `Submit homework 2 - Data Cleaning - [Your Name]`\n",
    "   - Click **\"Commit\"** \n",
    "   - Click **\"Sync Changes\"** or **\"Push\"**\n",
    "\n",
    "3. **Verify on GitHub**: Go to your repository online and confirm your notebook appears with your completed work\n",
    "\n",
    "**📖 Need help?** See [GITHUB_CLASSROOM_SUBMISSION.md](../../GITHUB_CLASSROOM_SUBMISSION.md) for detailed instructions.\n"
   ]
  }
 ],
 "metadata": {
  "kernelspec": {
   "display_name": "R",
   "language": "R",
   "name": "ir"
  },
  "language_info": {
   "codemirror_mode": "r",
   "file_extension": ".r",
   "mimetype": "text/x-r-source",
   "name": "R",
   "pygments_lexer": "r",
   "version": "4.4.3"
  }
 },
 "nbformat": 4,
 "nbformat_minor": 5
}
